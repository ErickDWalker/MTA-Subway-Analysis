{
 "cells": [
  {
   "cell_type": "code",
   "execution_count": 1,
   "metadata": {},
   "outputs": [],
   "source": [
    "from __future__ import print_function, division\n",
    "import pandas as pd\n",
    "import numpy as np\n",
    "import matplotlib.pyplot as plt\n",
    "\n",
    "%matplotlib inline\n",
    "import datetime\n",
    "from datetime import datetime as dt\n",
    "import seaborn as sns\n",
    "sns.set(style = \"whitegrid\")"
   ]
  },
  {
   "cell_type": "code",
   "execution_count": 2,
   "metadata": {},
   "outputs": [],
   "source": [
    "# Source for testing small sample: http://web.mta.info/developers/turnstile.html\n",
    "def get_sample_data(week_nums):\n",
    "    url = \"http://web.mta.info/developers/data/nyct/turnstile/turnstile_{}.txt\"\n",
    "    dfs = []\n",
    "    for week_num in week_nums:\n",
    "        file_url = url.format(week_num)\n",
    "        dfs.append(pd.read_csv(file_url))\n",
    "    return pd.concat(dfs)\n",
    "        \n",
    "week_nums = [191130,191123,191116,191109,191102,191026,191019,191012,191005,190928,190921,190914,190907,190831]\n",
    "turnstiles_df = get_sample_data(week_nums)\n",
    "turnstiles_df = turnstiles_df.reset_index(drop=True)"
   ]
  },
  {
   "cell_type": "code",
   "execution_count": 3,
   "metadata": {},
   "outputs": [],
   "source": [
    "# Remove and recovery audit rows (DESC = \"RECOVR AUD\")\n",
    "turnstiles_df = turnstiles_df[turnstiles_df[\"DESC\"] == \"REGULAR\"]"
   ]
  },
  {
   "cell_type": "code",
   "execution_count": 4,
   "metadata": {},
   "outputs": [],
   "source": [
    "# Convert Date_TIME field to datetime and create DAY_NAME column\n",
    "turnstiles_df[\"DATE_TIME\"] = pd.to_datetime(turnstiles_df[\"DATE\"] + \" \" + turnstiles_df[\"TIME\"], format=\"%m/%d/%Y %H:%M:%S\")\n",
    "turnstiles_df[\"DAY_Name\"] = turnstiles_df[\"DATE_TIME\"].dt.day_name()"
   ]
  },
  {
   "cell_type": "code",
   "execution_count": 5,
   "metadata": {},
   "outputs": [],
   "source": [
    "# Make all columns upperspace and remove whitespace\n",
    "turnstiles_df.columns = [column.strip().upper() for column in turnstiles_df.columns]"
   ]
  },
  {
   "cell_type": "code",
   "execution_count": 6,
   "metadata": {},
   "outputs": [
    {
     "data": {
      "text/plain": [
       "(2869522, 13)"
      ]
     },
     "execution_count": 6,
     "metadata": {},
     "output_type": "execute_result"
    }
   ],
   "source": [
    "turnstiles_df.shape"
   ]
  },
  {
   "cell_type": "code",
   "execution_count": 7,
   "metadata": {},
   "outputs": [],
   "source": [
    "# Remove the weekends, focusing only on work days\n",
    "df_weekdays = turnstiles_df[~turnstiles_df[\"DAY_NAME\"].isin([\"Saturday\", \"Sunday\"])]"
   ]
  },
  {
   "cell_type": "code",
   "execution_count": 8,
   "metadata": {},
   "outputs": [
    {
     "data": {
      "text/plain": [
       "array(['Monday', 'Tuesday', 'Wednesday', 'Thursday', 'Friday'],\n",
       "      dtype=object)"
      ]
     },
     "execution_count": 8,
     "metadata": {},
     "output_type": "execute_result"
    }
   ],
   "source": [
    "# Ensure all weekend rows were dropped\n",
    "df_weekdays[\"DAY_NAME\"].unique()"
   ]
  },
  {
   "cell_type": "code",
   "execution_count": 9,
   "metadata": {},
   "outputs": [
    {
     "name": "stderr",
     "output_type": "stream",
     "text": [
      "/Users/erickwalker/opt/anaconda3/envs/metis/lib/python3.7/site-packages/ipykernel_launcher.py:2: SettingWithCopyWarning: \n",
      "A value is trying to be set on a copy of a slice from a DataFrame.\n",
      "Try using .loc[row_indexer,col_indexer] = value instead\n",
      "\n",
      "See the caveats in the documentation: https://pandas.pydata.org/pandas-docs/stable/user_guide/indexing.html#returning-a-view-versus-a-copy\n",
      "  \n"
     ]
    }
   ],
   "source": [
    "# Create unique identifier for each turnstile\n",
    "df_weekdays['Turnstile'] = df_weekdays['C/A'] + df_weekdays['UNIT'] + df_weekdays['SCP']"
   ]
  },
  {
   "cell_type": "code",
   "execution_count": 10,
   "metadata": {},
   "outputs": [
    {
     "name": "stderr",
     "output_type": "stream",
     "text": [
      "/Users/erickwalker/opt/anaconda3/envs/metis/lib/python3.7/site-packages/ipykernel_launcher.py:3: SettingWithCopyWarning: \n",
      "A value is trying to be set on a copy of a slice from a DataFrame\n",
      "\n",
      "See the caveats in the documentation: https://pandas.pydata.org/pandas-docs/stable/user_guide/indexing.html#returning-a-view-versus-a-copy\n",
      "  This is separate from the ipykernel package so we can avoid doing imports until\n",
      "/Users/erickwalker/opt/anaconda3/envs/metis/lib/python3.7/site-packages/ipykernel_launcher.py:4: SettingWithCopyWarning: \n",
      "A value is trying to be set on a copy of a slice from a DataFrame\n",
      "\n",
      "See the caveats in the documentation: https://pandas.pydata.org/pandas-docs/stable/user_guide/indexing.html#returning-a-view-versus-a-copy\n",
      "  after removing the cwd from sys.path.\n"
     ]
    }
   ],
   "source": [
    "# Get rid of the duplicate entry\n",
    "df_weekdays.sort_values([\"C/A\", \"UNIT\", \"SCP\", \"STATION\", \"DATE_TIME\"], \n",
    "                          inplace=True, ascending=False)\n",
    "df_weekdays.drop_duplicates(subset=[\"C/A\", \"UNIT\", \"SCP\", \"STATION\", \"DATE_TIME\"], inplace=True)"
   ]
  },
  {
   "cell_type": "code",
   "execution_count": 100,
   "metadata": {},
   "outputs": [
    {
     "data": {
      "text/plain": [
       "(2057741, 14)"
      ]
     },
     "execution_count": 100,
     "metadata": {},
     "output_type": "execute_result"
    }
   ],
   "source": [
    "df_weekdays.shape"
   ]
  },
  {
   "cell_type": "code",
   "execution_count": 11,
   "metadata": {},
   "outputs": [
    {
     "name": "stderr",
     "output_type": "stream",
     "text": [
      "/Users/erickwalker/opt/anaconda3/envs/metis/lib/python3.7/site-packages/ipykernel_launcher.py:3: FutureWarning: Indexing with multiple keys (implicitly converted to a tuple of keys) will be deprecated, use a list instead.\n",
      "  This is separate from the ipykernel package so we can avoid doing imports until\n",
      "/Users/erickwalker/opt/anaconda3/envs/metis/lib/python3.7/site-packages/pandas/core/frame.py:2963: SettingWithCopyWarning: \n",
      "A value is trying to be set on a copy of a slice from a DataFrame.\n",
      "Try using .loc[row_indexer,col_indexer] = value instead\n",
      "\n",
      "See the caveats in the documentation: https://pandas.pydata.org/pandas-docs/stable/user_guide/indexing.html#returning-a-view-versus-a-copy\n",
      "  self[k1] = value[k2]\n"
     ]
    }
   ],
   "source": [
    "# \n",
    "df_weekdays[[\"PREV_DATE\", \"PREV_ENTRIES\"]] = (df_weekdays\n",
    "                                                       .groupby([\"C/A\", \"UNIT\", \"SCP\", \"STATION\"])[\"DATE\", \"ENTRIES\"]\n",
    "                                                       .apply(lambda grp: grp.shift(1)))"
   ]
  },
  {
   "cell_type": "code",
   "execution_count": 12,
   "metadata": {},
   "outputs": [
    {
     "name": "stderr",
     "output_type": "stream",
     "text": [
      "/Users/erickwalker/opt/anaconda3/envs/metis/lib/python3.7/site-packages/ipykernel_launcher.py:2: FutureWarning: Indexing with multiple keys (implicitly converted to a tuple of keys) will be deprecated, use a list instead.\n",
      "  \n"
     ]
    }
   ],
   "source": [
    "df_weekdays[[\"PREV_DATE\", \"PREV_EXITS\"]] = (df_weekdays\n",
    "                                                       .groupby([\"C/A\", \"UNIT\", \"SCP\", \"STATION\"])[\"DATE\", \"EXITS\"]\n",
    "                                                       .apply(lambda grp: grp.shift(1)))"
   ]
  },
  {
   "cell_type": "code",
   "execution_count": 13,
   "metadata": {},
   "outputs": [
    {
     "name": "stderr",
     "output_type": "stream",
     "text": [
      "/Users/erickwalker/opt/anaconda3/envs/metis/lib/python3.7/site-packages/ipykernel_launcher.py:2: SettingWithCopyWarning: \n",
      "A value is trying to be set on a copy of a slice from a DataFrame\n",
      "\n",
      "See the caveats in the documentation: https://pandas.pydata.org/pandas-docs/stable/user_guide/indexing.html#returning-a-view-versus-a-copy\n",
      "  \n"
     ]
    }
   ],
   "source": [
    "# Drop the rows for the earliest date in the df\n",
    "df_weekdays.dropna(subset=[\"PREV_DATE\"], axis=0, inplace=True)"
   ]
  },
  {
   "cell_type": "code",
   "execution_count": 14,
   "metadata": {},
   "outputs": [
    {
     "name": "stderr",
     "output_type": "stream",
     "text": [
      "/Users/erickwalker/opt/anaconda3/envs/metis/lib/python3.7/site-packages/ipykernel_launcher.py:19: SettingWithCopyWarning: \n",
      "A value is trying to be set on a copy of a slice from a DataFrame.\n",
      "Try using .loc[row_indexer,col_indexer] = value instead\n",
      "\n",
      "See the caveats in the documentation: https://pandas.pydata.org/pandas-docs/stable/user_guide/indexing.html#returning-a-view-versus-a-copy\n"
     ]
    }
   ],
   "source": [
    "# If counter is > 1Million, then the counter might have been reset.  \n",
    "# Just set it to zero as different counters have different cycle limits\n",
    "# It'd probably be a good idea to use a number significantly smaller than 1 million as the limit!\n",
    "\n",
    "def get_daily_counts(row, max_counter):\n",
    "    counter = row[\"ENTRIES\"] - row[\"PREV_ENTRIES\"]\n",
    "    if counter < 0:\n",
    "        # Maybe counter is reversed?\n",
    "        counter = -counter\n",
    "    if counter > max_counter:\n",
    "        # Maybe counter was reset to 0? \n",
    "        #print(row[\"ENTRIES\"], row[\"PREV_ENTRIES\"])\n",
    "        counter = min(row[\"ENTRIES\"], row[\"PREV_ENTRIES\"])\n",
    "    if counter > max_counter:\n",
    "        # Check it again to make sure we're not still giving a counter that's too big\n",
    "        return 0\n",
    "    return counter\n",
    "\n",
    "df_weekdays[\"HOURLY_ENTRIES\"] = df_weekdays.apply(get_daily_counts, axis=1, max_counter=100000)"
   ]
  },
  {
   "cell_type": "code",
   "execution_count": 15,
   "metadata": {},
   "outputs": [
    {
     "name": "stderr",
     "output_type": "stream",
     "text": [
      "/Users/erickwalker/opt/anaconda3/envs/metis/lib/python3.7/site-packages/ipykernel_launcher.py:19: SettingWithCopyWarning: \n",
      "A value is trying to be set on a copy of a slice from a DataFrame.\n",
      "Try using .loc[row_indexer,col_indexer] = value instead\n",
      "\n",
      "See the caveats in the documentation: https://pandas.pydata.org/pandas-docs/stable/user_guide/indexing.html#returning-a-view-versus-a-copy\n"
     ]
    }
   ],
   "source": [
    "# If counter is > 1Million, then the counter might have been reset.  \n",
    "# Just set it to zero as different counters have different cycle limits\n",
    "# It'd probably be a good idea to use a number significantly smaller than 1 million as the limit!\n",
    "\n",
    "def get_daily_counts(row, max_counter):\n",
    "    counter = row[\"EXITS\"] - row[\"PREV_EXITS\"]\n",
    "    if counter < 0:\n",
    "        # Maybe counter is reversed?\n",
    "        counter = -counter\n",
    "    if counter > max_counter:\n",
    "        # Maybe counter was reset to 0? \n",
    "        #print(row[\"ENTRIES\"], row[\"PREV_ENTRIES\"])\n",
    "        counter = min(row[\"EXITS\"], row[\"PREV_EXITS\"])\n",
    "    if counter > max_counter:\n",
    "        # Check it again to make sure we're not still giving a counter that's too big\n",
    "        return 0\n",
    "    return counter\n",
    "\n",
    "df_weekdays[\"HOURLY_EXITS\"] = df_weekdays.apply(get_daily_counts, axis=1, max_counter=100000)"
   ]
  },
  {
   "cell_type": "code",
   "execution_count": 16,
   "metadata": {},
   "outputs": [],
   "source": [
    "# Limit data to hour timestamps between 7:00 and 11:00 AM\n",
    "df_final = df_weekdays[(df_weekdays[\"TIME\"] >= \"07:00:00\") & (df_weekdays[\"TIME\"] <= \"11:00:00\")]"
   ]
  },
  {
   "cell_type": "code",
   "execution_count": 17,
   "metadata": {},
   "outputs": [
    {
     "data": {
      "text/plain": [
       "count    396925.000000\n",
       "mean        271.872523\n",
       "std         488.170856\n",
       "min           0.000000\n",
       "25%          59.000000\n",
       "50%         182.000000\n",
       "75%         375.000000\n",
       "max       86347.000000\n",
       "Name: HOURLY_ENTRIES, dtype: float64"
      ]
     },
     "execution_count": 17,
     "metadata": {},
     "output_type": "execute_result"
    }
   ],
   "source": [
    "df_final['HOURLY_ENTRIES'].describe()"
   ]
  },
  {
   "cell_type": "code",
   "execution_count": 18,
   "metadata": {},
   "outputs": [
    {
     "data": {
      "text/plain": [
       "count    396925.000000\n",
       "mean        234.900941\n",
       "std         429.041744\n",
       "min           0.000000\n",
       "25%          33.000000\n",
       "50%         114.000000\n",
       "75%         288.000000\n",
       "max       65797.000000\n",
       "Name: HOURLY_EXITS, dtype: float64"
      ]
     },
     "execution_count": 18,
     "metadata": {},
     "output_type": "execute_result"
    }
   ],
   "source": [
    "df_final['HOURLY_EXITS'].describe()"
   ]
  },
  {
   "cell_type": "code",
   "execution_count": 19,
   "metadata": {},
   "outputs": [
    {
     "data": {
      "text/html": [
       "<div>\n",
       "<style scoped>\n",
       "    .dataframe tbody tr th:only-of-type {\n",
       "        vertical-align: middle;\n",
       "    }\n",
       "\n",
       "    .dataframe tbody tr th {\n",
       "        vertical-align: top;\n",
       "    }\n",
       "\n",
       "    .dataframe thead th {\n",
       "        text-align: right;\n",
       "    }\n",
       "</style>\n",
       "<table border=\"1\" class=\"dataframe\">\n",
       "  <thead>\n",
       "    <tr style=\"text-align: right;\">\n",
       "      <th></th>\n",
       "      <th>C/A</th>\n",
       "      <th>UNIT</th>\n",
       "      <th>SCP</th>\n",
       "      <th>STATION</th>\n",
       "      <th>LINENAME</th>\n",
       "      <th>DIVISION</th>\n",
       "      <th>DATE</th>\n",
       "      <th>TIME</th>\n",
       "      <th>DESC</th>\n",
       "      <th>ENTRIES</th>\n",
       "      <th>EXITS</th>\n",
       "      <th>DATE_TIME</th>\n",
       "      <th>DAY_NAME</th>\n",
       "      <th>Turnstile</th>\n",
       "      <th>PREV_DATE</th>\n",
       "      <th>PREV_ENTRIES</th>\n",
       "      <th>PREV_EXITS</th>\n",
       "      <th>HOURLY_ENTRIES</th>\n",
       "      <th>HOURLY_EXITS</th>\n",
       "    </tr>\n",
       "  </thead>\n",
       "  <tbody>\n",
       "    <tr>\n",
       "      <th>205540</th>\n",
       "      <td>TRAM2</td>\n",
       "      <td>R469</td>\n",
       "      <td>00-05-01</td>\n",
       "      <td>RIT-ROOSEVELT</td>\n",
       "      <td>R</td>\n",
       "      <td>RIT</td>\n",
       "      <td>11/29/2019</td>\n",
       "      <td>08:00:00</td>\n",
       "      <td>REGULAR</td>\n",
       "      <td>5554</td>\n",
       "      <td>420</td>\n",
       "      <td>2019-11-29 08:00:00</td>\n",
       "      <td>Friday</td>\n",
       "      <td>TRAM2R46900-05-01</td>\n",
       "      <td>11/29/2019</td>\n",
       "      <td>5554.0</td>\n",
       "      <td>420.0</td>\n",
       "      <td>0.0</td>\n",
       "      <td>0.0</td>\n",
       "    </tr>\n",
       "    <tr>\n",
       "      <th>205534</th>\n",
       "      <td>TRAM2</td>\n",
       "      <td>R469</td>\n",
       "      <td>00-05-01</td>\n",
       "      <td>RIT-ROOSEVELT</td>\n",
       "      <td>R</td>\n",
       "      <td>RIT</td>\n",
       "      <td>11/28/2019</td>\n",
       "      <td>08:00:00</td>\n",
       "      <td>REGULAR</td>\n",
       "      <td>5554</td>\n",
       "      <td>420</td>\n",
       "      <td>2019-11-28 08:00:00</td>\n",
       "      <td>Thursday</td>\n",
       "      <td>TRAM2R46900-05-01</td>\n",
       "      <td>11/28/2019</td>\n",
       "      <td>5554.0</td>\n",
       "      <td>420.0</td>\n",
       "      <td>0.0</td>\n",
       "      <td>0.0</td>\n",
       "    </tr>\n",
       "    <tr>\n",
       "      <th>205528</th>\n",
       "      <td>TRAM2</td>\n",
       "      <td>R469</td>\n",
       "      <td>00-05-01</td>\n",
       "      <td>RIT-ROOSEVELT</td>\n",
       "      <td>R</td>\n",
       "      <td>RIT</td>\n",
       "      <td>11/27/2019</td>\n",
       "      <td>08:00:00</td>\n",
       "      <td>REGULAR</td>\n",
       "      <td>5554</td>\n",
       "      <td>420</td>\n",
       "      <td>2019-11-27 08:00:00</td>\n",
       "      <td>Wednesday</td>\n",
       "      <td>TRAM2R46900-05-01</td>\n",
       "      <td>11/27/2019</td>\n",
       "      <td>5554.0</td>\n",
       "      <td>420.0</td>\n",
       "      <td>0.0</td>\n",
       "      <td>0.0</td>\n",
       "    </tr>\n",
       "    <tr>\n",
       "      <th>205522</th>\n",
       "      <td>TRAM2</td>\n",
       "      <td>R469</td>\n",
       "      <td>00-05-01</td>\n",
       "      <td>RIT-ROOSEVELT</td>\n",
       "      <td>R</td>\n",
       "      <td>RIT</td>\n",
       "      <td>11/26/2019</td>\n",
       "      <td>08:00:00</td>\n",
       "      <td>REGULAR</td>\n",
       "      <td>5554</td>\n",
       "      <td>420</td>\n",
       "      <td>2019-11-26 08:00:00</td>\n",
       "      <td>Tuesday</td>\n",
       "      <td>TRAM2R46900-05-01</td>\n",
       "      <td>11/26/2019</td>\n",
       "      <td>5554.0</td>\n",
       "      <td>420.0</td>\n",
       "      <td>0.0</td>\n",
       "      <td>0.0</td>\n",
       "    </tr>\n",
       "    <tr>\n",
       "      <th>205516</th>\n",
       "      <td>TRAM2</td>\n",
       "      <td>R469</td>\n",
       "      <td>00-05-01</td>\n",
       "      <td>RIT-ROOSEVELT</td>\n",
       "      <td>R</td>\n",
       "      <td>RIT</td>\n",
       "      <td>11/25/2019</td>\n",
       "      <td>08:00:00</td>\n",
       "      <td>REGULAR</td>\n",
       "      <td>5554</td>\n",
       "      <td>420</td>\n",
       "      <td>2019-11-25 08:00:00</td>\n",
       "      <td>Monday</td>\n",
       "      <td>TRAM2R46900-05-01</td>\n",
       "      <td>11/25/2019</td>\n",
       "      <td>5554.0</td>\n",
       "      <td>420.0</td>\n",
       "      <td>0.0</td>\n",
       "      <td>0.0</td>\n",
       "    </tr>\n",
       "  </tbody>\n",
       "</table>\n",
       "</div>"
      ],
      "text/plain": [
       "          C/A  UNIT       SCP        STATION LINENAME DIVISION        DATE  \\\n",
       "205540  TRAM2  R469  00-05-01  RIT-ROOSEVELT        R      RIT  11/29/2019   \n",
       "205534  TRAM2  R469  00-05-01  RIT-ROOSEVELT        R      RIT  11/28/2019   \n",
       "205528  TRAM2  R469  00-05-01  RIT-ROOSEVELT        R      RIT  11/27/2019   \n",
       "205522  TRAM2  R469  00-05-01  RIT-ROOSEVELT        R      RIT  11/26/2019   \n",
       "205516  TRAM2  R469  00-05-01  RIT-ROOSEVELT        R      RIT  11/25/2019   \n",
       "\n",
       "            TIME     DESC  ENTRIES  EXITS           DATE_TIME   DAY_NAME  \\\n",
       "205540  08:00:00  REGULAR     5554    420 2019-11-29 08:00:00     Friday   \n",
       "205534  08:00:00  REGULAR     5554    420 2019-11-28 08:00:00   Thursday   \n",
       "205528  08:00:00  REGULAR     5554    420 2019-11-27 08:00:00  Wednesday   \n",
       "205522  08:00:00  REGULAR     5554    420 2019-11-26 08:00:00    Tuesday   \n",
       "205516  08:00:00  REGULAR     5554    420 2019-11-25 08:00:00     Monday   \n",
       "\n",
       "                Turnstile   PREV_DATE  PREV_ENTRIES  PREV_EXITS  \\\n",
       "205540  TRAM2R46900-05-01  11/29/2019        5554.0       420.0   \n",
       "205534  TRAM2R46900-05-01  11/28/2019        5554.0       420.0   \n",
       "205528  TRAM2R46900-05-01  11/27/2019        5554.0       420.0   \n",
       "205522  TRAM2R46900-05-01  11/26/2019        5554.0       420.0   \n",
       "205516  TRAM2R46900-05-01  11/25/2019        5554.0       420.0   \n",
       "\n",
       "        HOURLY_ENTRIES  HOURLY_EXITS  \n",
       "205540             0.0           0.0  \n",
       "205534             0.0           0.0  \n",
       "205528             0.0           0.0  \n",
       "205522             0.0           0.0  \n",
       "205516             0.0           0.0  "
      ]
     },
     "execution_count": 19,
     "metadata": {},
     "output_type": "execute_result"
    }
   ],
   "source": [
    "df_final.head(5)"
   ]
  },
  {
   "cell_type": "code",
   "execution_count": 20,
   "metadata": {},
   "outputs": [
    {
     "data": {
      "text/html": [
       "<div>\n",
       "<style scoped>\n",
       "    .dataframe tbody tr th:only-of-type {\n",
       "        vertical-align: middle;\n",
       "    }\n",
       "\n",
       "    .dataframe tbody tr th {\n",
       "        vertical-align: top;\n",
       "    }\n",
       "\n",
       "    .dataframe thead th {\n",
       "        text-align: right;\n",
       "    }\n",
       "</style>\n",
       "<table border=\"1\" class=\"dataframe\">\n",
       "  <thead>\n",
       "    <tr style=\"text-align: right;\">\n",
       "      <th></th>\n",
       "      <th>STATION</th>\n",
       "      <th>HOURLY_EXITS</th>\n",
       "    </tr>\n",
       "  </thead>\n",
       "  <tbody>\n",
       "    <tr>\n",
       "      <th>0</th>\n",
       "      <td>1 AV</td>\n",
       "      <td>421399.0</td>\n",
       "    </tr>\n",
       "    <tr>\n",
       "      <th>1</th>\n",
       "      <td>103 ST</td>\n",
       "      <td>275291.0</td>\n",
       "    </tr>\n",
       "    <tr>\n",
       "      <th>2</th>\n",
       "      <td>103 ST-CORONA</td>\n",
       "      <td>134151.0</td>\n",
       "    </tr>\n",
       "    <tr>\n",
       "      <th>3</th>\n",
       "      <td>104 ST</td>\n",
       "      <td>18997.0</td>\n",
       "    </tr>\n",
       "    <tr>\n",
       "      <th>4</th>\n",
       "      <td>110 ST</td>\n",
       "      <td>159705.0</td>\n",
       "    </tr>\n",
       "  </tbody>\n",
       "</table>\n",
       "</div>"
      ],
      "text/plain": [
       "         STATION  HOURLY_EXITS\n",
       "0           1 AV      421399.0\n",
       "1         103 ST      275291.0\n",
       "2  103 ST-CORONA      134151.0\n",
       "3         104 ST       18997.0\n",
       "4         110 ST      159705.0"
      ]
     },
     "execution_count": 20,
     "metadata": {},
     "output_type": "execute_result"
    }
   ],
   "source": [
    "# First get daily entries by station\n",
    "\n",
    "work_week_exits = \\\n",
    "(df_final.groupby(['STATION'])['HOURLY_EXITS'].sum()\n",
    "                 .reset_index())\n",
    "\n",
    "work_week_exits.head()"
   ]
  },
  {
   "cell_type": "code",
   "execution_count": 21,
   "metadata": {},
   "outputs": [
    {
     "data": {
      "text/plain": [
       "232    GRD CNTRL-42 ST\n",
       "59     34 ST-HERALD SQ\n",
       "352     TIMES SQ-42 ST\n",
       "72      47-50 STS ROCK\n",
       "61      34 ST-PENN STA\n",
       "46               23 ST\n",
       "225          FULTON ST\n",
       "14      14 ST-UNION SQ\n",
       "86      59 ST COLUMBUS\n",
       "269    LEXINGTON AV/53\n",
       "Name: STATION, dtype: object"
      ]
     },
     "execution_count": 21,
     "metadata": {},
     "output_type": "execute_result"
    }
   ],
   "source": [
    "# Then get top 10 stations by daily exit volume \n",
    "# (summing across all days is a reasonable way to define this)\n",
    "top10_exits_stations = \\\n",
    "    (work_week_exits.groupby(['STATION'])['HOURLY_EXITS'].sum()\n",
    "                   .reset_index()\n",
    "                   .sort_values(by='HOURLY_EXITS',ascending=False) \n",
    "                   .STATION.head(10))\n",
    "\n",
    "top10_exits_stations"
   ]
  },
  {
   "cell_type": "code",
   "execution_count": 27,
   "metadata": {},
   "outputs": [
    {
     "name": "stderr",
     "output_type": "stream",
     "text": [
      "/Users/erickwalker/opt/anaconda3/envs/metis/lib/python3.7/site-packages/ipykernel_launcher.py:4: SettingWithCopyWarning: \n",
      "A value is trying to be set on a copy of a slice from a DataFrame\n",
      "\n",
      "See the caveats in the documentation: https://pandas.pydata.org/pandas-docs/stable/user_guide/indexing.html#returning-a-view-versus-a-copy\n",
      "  after removing the cwd from sys.path.\n"
     ]
    }
   ],
   "source": [
    "# Create a new df that filters the stations daily data down to the top 10 stations\n",
    "stations_hourly_top10 = work_week_exits[work_week_exits['STATION'].isin(top10_exits_stations)]\n",
    "stations_hourly_top10.sort_values(by = 'HOURLY_EXITS', ascending = False, inplace = True)"
   ]
  },
  {
   "cell_type": "code",
   "execution_count": 63,
   "metadata": {},
   "outputs": [
    {
     "data": {
      "image/png": "[encoded data removed]",
      "text/plain": [
       "<Figure size 432x288 with 1 Axes>"
      ]
     },
     "metadata": {},
     "output_type": "display_data"
    }
   ],
   "source": [
    "# Graph Exits by Manhattan Station\n",
    "exits_palette = {key: \"gray\" if key != \"GRD CNTRL-42 ST\" else \"#3498db\" for key in stations_hourly_top10[\"STATION\"].unique()}\n",
    "\n",
    "sns.barplot(stations_hourly_top10['HOURLY_EXITS'],stations_hourly_top10['STATION'], orient = \"h\", palette = exits_palette)\n",
    "sns.set(style = \"whitegrid\")\n",
    "plt.xlabel(\"Cumulative Exits (millions)\")\n",
    "plt.ylabel(\"\")\n",
    "plt.title(\"Top Work Hubs in Manhattan\", weight=\"bold\", fontsize=\"14\");"
   ]
  },
  {
   "cell_type": "code",
   "execution_count": 35,
   "metadata": {},
   "outputs": [
    {
     "data": {
      "text/plain": [
       "array(['4567S'], dtype=object)"
      ]
     },
     "execution_count": 35,
     "metadata": {},
     "output_type": "execute_result"
    }
   ],
   "source": [
    "# find which lines commute to Grand Central \n",
    "df_final[df_final['STATION'] == 'GRD CNTRL-42 ST'][\"LINENAME\"].unique()"
   ]
  },
  {
   "cell_type": "code",
   "execution_count": 36,
   "metadata": {},
   "outputs": [
    {
     "data": {
      "text/plain": [
       "array(['CROWN HTS-UTICA', 'FRANKLIN AV', 'ATL AV-BARCLAY', 'NEVINS ST',\n",
       "       'BOROUGH HALL', 'WOODLAWN', 'MOSHOLU PKWY', 'BEDFORD PK BLVD',\n",
       "       'KINGSBRIDGE RD', 'FORDHAM RD', '183 ST', 'BURNSIDE AV', '176 ST',\n",
       "       'MT EDEN AV', '170 ST', '167 ST', '161/YANKEE STAD',\n",
       "       '149/GRAND CONC', '138/GRAND CONC', '125 ST', '86 ST', '59 ST',\n",
       "       'GRD CNTRL-42 ST', '14 ST-UNION SQ', 'BROOKLYN BRIDGE',\n",
       "       'FULTON ST', 'WALL ST', 'BOWLING GREEN', 'BOTANIC GARDEN',\n",
       "       'CHAMBERS ST'], dtype=object)"
      ]
     },
     "execution_count": 36,
     "metadata": {},
     "output_type": "execute_result"
    }
   ],
   "source": [
    "# We choose 1 line from these: we chose 4 to start with \n",
    "df_final[df_final['LINENAME'].str.contains('4')].STATION.unique() "
   ]
  },
  {
   "cell_type": "code",
   "execution_count": 37,
   "metadata": {},
   "outputs": [
    {
     "data": {
      "text/plain": [
       "array(['EASTCHSTER/DYRE', 'BAYCHESTER AV', 'GUN HILL RD', 'PELHAM PKWY',\n",
       "       'MORRIS PARK', 'FLATBUSH AV-B.C', 'NEWKIRK AV', 'BEVERLY RD',\n",
       "       'CHURCH AV', 'WINTHROP ST', 'STERLING ST', 'PRESIDENT ST',\n",
       "       'FRANKLIN AV', 'ATL AV-BARCLAY', 'NEVINS ST', 'BOROUGH HALL',\n",
       "       'NEREID AV', '233 ST', '225 ST', '219 ST', 'BURKE AV',\n",
       "       'ALLERTON AV', 'BRONX PARK EAST', 'E 180 ST', 'WEST FARMS SQ',\n",
       "       '174 ST', 'FREEMAN ST', 'SIMPSON ST', 'INTERVALE AV',\n",
       "       'PROSPECT AV', 'JACKSON AV', '3 AV-149 ST', '149/GRAND CONC',\n",
       "       '138/GRAND CONC', '125 ST', '86 ST', '59 ST', 'GRD CNTRL-42 ST',\n",
       "       '14 ST-UNION SQ', 'BROOKLYN BRIDGE', 'FULTON ST', 'WALL ST',\n",
       "       'BOWLING GREEN', 'BOTANIC GARDEN', 'CHAMBERS ST'], dtype=object)"
      ]
     },
     "execution_count": 37,
     "metadata": {},
     "output_type": "execute_result"
    }
   ],
   "source": [
    "df_final[df_final['LINENAME'].str.contains('5')].STATION.unique() "
   ]
  },
  {
   "cell_type": "code",
   "execution_count": 38,
   "metadata": {},
   "outputs": [],
   "source": [
    "# Declare list of stations in Brooklyn with access to lines 4 & 5 \n",
    "stations_4_5 = ['CROWN HTS-UTICA', 'FRANKLIN AV', 'ATL AV-BARCLAY', 'NEVINS ST','BOROUGH HALL', 'PRESIDENT ST', 'STERLING ST','WINTHROP ST', 'CHURCH AV', 'BEVERLY RD', 'NEWKIRK AV']"
   ]
  },
  {
   "cell_type": "code",
   "execution_count": 39,
   "metadata": {},
   "outputs": [],
   "source": [
    "df_4_5_Brooklyn = df_final[df_final['STATION'].isin(stations_4_5)] "
   ]
  },
  {
   "cell_type": "code",
   "execution_count": 40,
   "metadata": {},
   "outputs": [
    {
     "data": {
      "text/html": [
       "<div>\n",
       "<style scoped>\n",
       "    .dataframe tbody tr th:only-of-type {\n",
       "        vertical-align: middle;\n",
       "    }\n",
       "\n",
       "    .dataframe tbody tr th {\n",
       "        vertical-align: top;\n",
       "    }\n",
       "\n",
       "    .dataframe thead th {\n",
       "        text-align: right;\n",
       "    }\n",
       "</style>\n",
       "<table border=\"1\" class=\"dataframe\">\n",
       "  <thead>\n",
       "    <tr style=\"text-align: right;\">\n",
       "      <th></th>\n",
       "      <th>C/A</th>\n",
       "      <th>UNIT</th>\n",
       "      <th>SCP</th>\n",
       "      <th>STATION</th>\n",
       "      <th>LINENAME</th>\n",
       "      <th>DIVISION</th>\n",
       "      <th>DATE</th>\n",
       "      <th>TIME</th>\n",
       "      <th>DESC</th>\n",
       "      <th>ENTRIES</th>\n",
       "      <th>EXITS</th>\n",
       "      <th>DATE_TIME</th>\n",
       "      <th>DAY_NAME</th>\n",
       "      <th>Turnstile</th>\n",
       "      <th>PREV_DATE</th>\n",
       "      <th>PREV_ENTRIES</th>\n",
       "      <th>PREV_EXITS</th>\n",
       "      <th>HOURLY_ENTRIES</th>\n",
       "      <th>HOURLY_EXITS</th>\n",
       "    </tr>\n",
       "  </thead>\n",
       "  <tbody>\n",
       "    <tr>\n",
       "      <th>202139</th>\n",
       "      <td>R644</td>\n",
       "      <td>R135</td>\n",
       "      <td>01-06-01</td>\n",
       "      <td>NEWKIRK AV</td>\n",
       "      <td>25</td>\n",
       "      <td>IRT</td>\n",
       "      <td>11/29/2019</td>\n",
       "      <td>08:00:00</td>\n",
       "      <td>REGULAR</td>\n",
       "      <td>583454</td>\n",
       "      <td>10284018</td>\n",
       "      <td>2019-11-29 08:00:00</td>\n",
       "      <td>Friday</td>\n",
       "      <td>R644R13501-06-01</td>\n",
       "      <td>11/29/2019</td>\n",
       "      <td>583470.0</td>\n",
       "      <td>10284160.0</td>\n",
       "      <td>16.0</td>\n",
       "      <td>142.0</td>\n",
       "    </tr>\n",
       "    <tr>\n",
       "      <th>202133</th>\n",
       "      <td>R644</td>\n",
       "      <td>R135</td>\n",
       "      <td>01-06-01</td>\n",
       "      <td>NEWKIRK AV</td>\n",
       "      <td>25</td>\n",
       "      <td>IRT</td>\n",
       "      <td>11/28/2019</td>\n",
       "      <td>08:00:00</td>\n",
       "      <td>REGULAR</td>\n",
       "      <td>583425</td>\n",
       "      <td>10283246</td>\n",
       "      <td>2019-11-28 08:00:00</td>\n",
       "      <td>Thursday</td>\n",
       "      <td>R644R13501-06-01</td>\n",
       "      <td>11/28/2019</td>\n",
       "      <td>583435.0</td>\n",
       "      <td>10283362.0</td>\n",
       "      <td>10.0</td>\n",
       "      <td>116.0</td>\n",
       "    </tr>\n",
       "    <tr>\n",
       "      <th>202126</th>\n",
       "      <td>R644</td>\n",
       "      <td>R135</td>\n",
       "      <td>01-06-01</td>\n",
       "      <td>NEWKIRK AV</td>\n",
       "      <td>25</td>\n",
       "      <td>IRT</td>\n",
       "      <td>11/27/2019</td>\n",
       "      <td>09:40:03</td>\n",
       "      <td>REGULAR</td>\n",
       "      <td>583335</td>\n",
       "      <td>10281502</td>\n",
       "      <td>2019-11-27 09:40:03</td>\n",
       "      <td>Wednesday</td>\n",
       "      <td>R644R13501-06-01</td>\n",
       "      <td>11/27/2019</td>\n",
       "      <td>583351.0</td>\n",
       "      <td>10281628.0</td>\n",
       "      <td>16.0</td>\n",
       "      <td>126.0</td>\n",
       "    </tr>\n",
       "    <tr>\n",
       "      <th>202125</th>\n",
       "      <td>R644</td>\n",
       "      <td>R135</td>\n",
       "      <td>01-06-01</td>\n",
       "      <td>NEWKIRK AV</td>\n",
       "      <td>25</td>\n",
       "      <td>IRT</td>\n",
       "      <td>11/27/2019</td>\n",
       "      <td>08:00:00</td>\n",
       "      <td>REGULAR</td>\n",
       "      <td>583325</td>\n",
       "      <td>10281419</td>\n",
       "      <td>2019-11-27 08:00:00</td>\n",
       "      <td>Wednesday</td>\n",
       "      <td>R644R13501-06-01</td>\n",
       "      <td>11/27/2019</td>\n",
       "      <td>583335.0</td>\n",
       "      <td>10281502.0</td>\n",
       "      <td>10.0</td>\n",
       "      <td>83.0</td>\n",
       "    </tr>\n",
       "    <tr>\n",
       "      <th>202119</th>\n",
       "      <td>R644</td>\n",
       "      <td>R135</td>\n",
       "      <td>01-06-01</td>\n",
       "      <td>NEWKIRK AV</td>\n",
       "      <td>25</td>\n",
       "      <td>IRT</td>\n",
       "      <td>11/26/2019</td>\n",
       "      <td>08:00:00</td>\n",
       "      <td>REGULAR</td>\n",
       "      <td>583235</td>\n",
       "      <td>10279466</td>\n",
       "      <td>2019-11-26 08:00:00</td>\n",
       "      <td>Tuesday</td>\n",
       "      <td>R644R13501-06-01</td>\n",
       "      <td>11/26/2019</td>\n",
       "      <td>583267.0</td>\n",
       "      <td>10279692.0</td>\n",
       "      <td>32.0</td>\n",
       "      <td>226.0</td>\n",
       "    </tr>\n",
       "  </tbody>\n",
       "</table>\n",
       "</div>"
      ],
      "text/plain": [
       "         C/A  UNIT       SCP     STATION LINENAME DIVISION        DATE  \\\n",
       "202139  R644  R135  01-06-01  NEWKIRK AV       25      IRT  11/29/2019   \n",
       "202133  R644  R135  01-06-01  NEWKIRK AV       25      IRT  11/28/2019   \n",
       "202126  R644  R135  01-06-01  NEWKIRK AV       25      IRT  11/27/2019   \n",
       "202125  R644  R135  01-06-01  NEWKIRK AV       25      IRT  11/27/2019   \n",
       "202119  R644  R135  01-06-01  NEWKIRK AV       25      IRT  11/26/2019   \n",
       "\n",
       "            TIME     DESC  ENTRIES     EXITS           DATE_TIME   DAY_NAME  \\\n",
       "202139  08:00:00  REGULAR   583454  10284018 2019-11-29 08:00:00     Friday   \n",
       "202133  08:00:00  REGULAR   583425  10283246 2019-11-28 08:00:00   Thursday   \n",
       "202126  09:40:03  REGULAR   583335  10281502 2019-11-27 09:40:03  Wednesday   \n",
       "202125  08:00:00  REGULAR   583325  10281419 2019-11-27 08:00:00  Wednesday   \n",
       "202119  08:00:00  REGULAR   583235  10279466 2019-11-26 08:00:00    Tuesday   \n",
       "\n",
       "               Turnstile   PREV_DATE  PREV_ENTRIES  PREV_EXITS  \\\n",
       "202139  R644R13501-06-01  11/29/2019      583470.0  10284160.0   \n",
       "202133  R644R13501-06-01  11/28/2019      583435.0  10283362.0   \n",
       "202126  R644R13501-06-01  11/27/2019      583351.0  10281628.0   \n",
       "202125  R644R13501-06-01  11/27/2019      583335.0  10281502.0   \n",
       "202119  R644R13501-06-01  11/26/2019      583267.0  10279692.0   \n",
       "\n",
       "        HOURLY_ENTRIES  HOURLY_EXITS  \n",
       "202139            16.0         142.0  \n",
       "202133            10.0         116.0  \n",
       "202126            16.0         126.0  \n",
       "202125            10.0          83.0  \n",
       "202119            32.0         226.0  "
      ]
     },
     "execution_count": 40,
     "metadata": {},
     "output_type": "execute_result"
    }
   ],
   "source": [
    "df_4_5_Brooklyn.head()"
   ]
  },
  {
   "cell_type": "code",
   "execution_count": 41,
   "metadata": {},
   "outputs": [],
   "source": [
    "# Get Entries by Station\n",
    "work_week_entries = \\\n",
    "(df_4_5_Brooklyn.groupby(['STATION'])['HOURLY_ENTRIES'].sum()\n",
    "                 .reset_index())\n",
    "\n",
    "work_week_entries.sort_values(by = 'HOURLY_ENTRIES', ascending = True, inplace = True)"
   ]
  },
  {
   "cell_type": "code",
   "execution_count": 42,
   "metadata": {},
   "outputs": [
    {
     "data": {
      "text/html": [
       "<div>\n",
       "<style scoped>\n",
       "    .dataframe tbody tr th:only-of-type {\n",
       "        vertical-align: middle;\n",
       "    }\n",
       "\n",
       "    .dataframe tbody tr th {\n",
       "        vertical-align: top;\n",
       "    }\n",
       "\n",
       "    .dataframe thead th {\n",
       "        text-align: right;\n",
       "    }\n",
       "</style>\n",
       "<table border=\"1\" class=\"dataframe\">\n",
       "  <thead>\n",
       "    <tr style=\"text-align: right;\">\n",
       "      <th></th>\n",
       "      <th>STATION</th>\n",
       "      <th>HOURLY_ENTRIES</th>\n",
       "    </tr>\n",
       "  </thead>\n",
       "  <tbody>\n",
       "    <tr>\n",
       "      <th>10</th>\n",
       "      <td>WINTHROP ST</td>\n",
       "      <td>121013.0</td>\n",
       "    </tr>\n",
       "    <tr>\n",
       "      <th>7</th>\n",
       "      <td>NEWKIRK AV</td>\n",
       "      <td>124557.0</td>\n",
       "    </tr>\n",
       "    <tr>\n",
       "      <th>8</th>\n",
       "      <td>PRESIDENT ST</td>\n",
       "      <td>131114.0</td>\n",
       "    </tr>\n",
       "    <tr>\n",
       "      <th>1</th>\n",
       "      <td>BEVERLY RD</td>\n",
       "      <td>132692.0</td>\n",
       "    </tr>\n",
       "    <tr>\n",
       "      <th>9</th>\n",
       "      <td>STERLING ST</td>\n",
       "      <td>142206.0</td>\n",
       "    </tr>\n",
       "    <tr>\n",
       "      <th>6</th>\n",
       "      <td>NEVINS ST</td>\n",
       "      <td>221255.0</td>\n",
       "    </tr>\n",
       "    <tr>\n",
       "      <th>5</th>\n",
       "      <td>FRANKLIN AV</td>\n",
       "      <td>609944.0</td>\n",
       "    </tr>\n",
       "    <tr>\n",
       "      <th>4</th>\n",
       "      <td>CROWN HTS-UTICA</td>\n",
       "      <td>761424.0</td>\n",
       "    </tr>\n",
       "    <tr>\n",
       "      <th>2</th>\n",
       "      <td>BOROUGH HALL</td>\n",
       "      <td>773457.0</td>\n",
       "    </tr>\n",
       "    <tr>\n",
       "      <th>3</th>\n",
       "      <td>CHURCH AV</td>\n",
       "      <td>943920.0</td>\n",
       "    </tr>\n",
       "    <tr>\n",
       "      <th>0</th>\n",
       "      <td>ATL AV-BARCLAY</td>\n",
       "      <td>1157933.0</td>\n",
       "    </tr>\n",
       "  </tbody>\n",
       "</table>\n",
       "</div>"
      ],
      "text/plain": [
       "            STATION  HOURLY_ENTRIES\n",
       "10      WINTHROP ST        121013.0\n",
       "7        NEWKIRK AV        124557.0\n",
       "8      PRESIDENT ST        131114.0\n",
       "1        BEVERLY RD        132692.0\n",
       "9       STERLING ST        142206.0\n",
       "6         NEVINS ST        221255.0\n",
       "5       FRANKLIN AV        609944.0\n",
       "4   CROWN HTS-UTICA        761424.0\n",
       "2      BOROUGH HALL        773457.0\n",
       "3         CHURCH AV        943920.0\n",
       "0    ATL AV-BARCLAY       1157933.0"
      ]
     },
     "execution_count": 42,
     "metadata": {},
     "output_type": "execute_result"
    }
   ],
   "source": [
    "work_week_entries"
   ]
  },
  {
   "cell_type": "code",
   "execution_count": 64,
   "metadata": {},
   "outputs": [
    {
     "data": {
      "image/png": "[encoded data removed]",
      "text/plain": [
       "<Figure size 432x288 with 1 Axes>"
      ]
     },
     "metadata": {},
     "output_type": "display_data"
    }
   ],
   "source": [
    "# Graph Stations by Entries\n",
    "red_list = [\"WINTHROP ST\",\"NEWKIRK AV\", \"PRESIDENT ST\", \"BEVERLY RD\",\"STERLING ST\",\"NEVINS ST\"] \n",
    "entries_palette = {key: \"gray\" if key not in red_list else \"#CD5C5C\" for key in work_week_entries[\"STATION\"].unique()}\n",
    "\n",
    "sns.barplot(work_week_entries['HOURLY_ENTRIES'],work_week_entries['STATION'], orient = \"h\", palette = entries_palette)\n",
    "sns.set(style=\"whitegrid\")\n",
    "plt.xlabel(\"Cumulative Entries (millions)\")\n",
    "plt.ylabel(\"\")\n",
    "plt.title(\"Brooklyn Subway Stations\", weight=\"bold\", fontsize=\"14\");"
   ]
  },
  {
   "cell_type": "code",
   "execution_count": 47,
   "metadata": {},
   "outputs": [
    {
     "data": {
      "text/html": [
       "<div>\n",
       "<style scoped>\n",
       "    .dataframe tbody tr th:only-of-type {\n",
       "        vertical-align: middle;\n",
       "    }\n",
       "\n",
       "    .dataframe tbody tr th {\n",
       "        vertical-align: top;\n",
       "    }\n",
       "\n",
       "    .dataframe thead th {\n",
       "        text-align: right;\n",
       "    }\n",
       "</style>\n",
       "<table border=\"1\" class=\"dataframe\">\n",
       "  <thead>\n",
       "    <tr style=\"text-align: right;\">\n",
       "      <th></th>\n",
       "      <th>STATION</th>\n",
       "      <th>HOURLY_ENTRIES</th>\n",
       "    </tr>\n",
       "  </thead>\n",
       "  <tbody>\n",
       "    <tr>\n",
       "      <th>10</th>\n",
       "      <td>WINTHROP ST</td>\n",
       "      <td>121013.0</td>\n",
       "    </tr>\n",
       "    <tr>\n",
       "      <th>7</th>\n",
       "      <td>NEWKIRK AV</td>\n",
       "      <td>124557.0</td>\n",
       "    </tr>\n",
       "    <tr>\n",
       "      <th>8</th>\n",
       "      <td>PRESIDENT ST</td>\n",
       "      <td>131114.0</td>\n",
       "    </tr>\n",
       "    <tr>\n",
       "      <th>1</th>\n",
       "      <td>BEVERLY RD</td>\n",
       "      <td>132692.0</td>\n",
       "    </tr>\n",
       "    <tr>\n",
       "      <th>9</th>\n",
       "      <td>STERLING ST</td>\n",
       "      <td>142206.0</td>\n",
       "    </tr>\n",
       "  </tbody>\n",
       "</table>\n",
       "</div>"
      ],
      "text/plain": [
       "         STATION  HOURLY_ENTRIES\n",
       "10   WINTHROP ST        121013.0\n",
       "7     NEWKIRK AV        124557.0\n",
       "8   PRESIDENT ST        131114.0\n",
       "1     BEVERLY RD        132692.0\n",
       "9    STERLING ST        142206.0"
      ]
     },
     "execution_count": 47,
     "metadata": {},
     "output_type": "execute_result"
    }
   ],
   "source": [
    "work_week_entries.head()"
   ]
  },
  {
   "cell_type": "code",
   "execution_count": 48,
   "metadata": {},
   "outputs": [
    {
     "data": {
      "text/plain": [
       "['CROWN HTS-UTICA',\n",
       " 'FRANKLIN AV',\n",
       " 'ATL AV-BARCLAY',\n",
       " 'NEVINS ST',\n",
       " 'BOROUGH HALL',\n",
       " 'PRESIDENT ST',\n",
       " 'STERLING ST',\n",
       " 'WINTHROP ST',\n",
       " 'CHURCH AV',\n",
       " 'BEVERLY RD',\n",
       " 'NEWKIRK AV']"
      ]
     },
     "execution_count": 48,
     "metadata": {},
     "output_type": "execute_result"
    }
   ],
   "source": [
    "stations_4_5"
   ]
  },
  {
   "cell_type": "code",
   "execution_count": 49,
   "metadata": {},
   "outputs": [],
   "source": [
    "# Declare dictionaries with subway stations along the 4,5 line\n",
    "\n",
    "stations_4_5_nhoods_inc = {\"Crown Heights North\":[[\"CROWN HTS-UTICA\"],37104],\n",
    "                              \"Crown Heights South\":[[\"PRESIDENT ST\"],41745],\n",
    "                              \"East Flatbush\":[['Beverly RD'], 50889],\n",
    "                              'Flatbush':[['Church Av','NewKirk Av'],45332],\n",
    "                              \"Prospect Lefferts Gardens\":[[\"FRANKLIN AV\",\"STERLING ST\", \"WINTHROP ST\"],42462],\n",
    "                              \"Downtown Brooklyn\":[[\"ATL AV-BARCLAY\",\"NEVINS ST\",\"BOROUGH HALL\"],84945]\n",
    "                             }"
   ]
  },
  {
   "cell_type": "code",
   "execution_count": 50,
   "metadata": {},
   "outputs": [],
   "source": [
    "stations_4_5_inc = {\"CROWN HTS-UTICA\":37104,\n",
    "                              \"PRESIDENT ST\":41745,\n",
    "                              \"BEVERLY RD\":50889,\n",
    "                              \"CHURCH AV\": 45332,\n",
    "                               \"NEWKIRK AV\":45332,\n",
    "                              \"FRANKLIN AV\":42462,\n",
    "                               \"STERLING ST\": 42462,\n",
    "                                \"WINTHROP ST\":42462,\n",
    "                                \"ATL AV-BARCLAY\":84945,\n",
    "                                \"NEVINS ST\":84945,\n",
    "                                \"BOROUGH HALL\":84945\n",
    "                             }"
   ]
  },
  {
   "cell_type": "code",
   "execution_count": 51,
   "metadata": {},
   "outputs": [],
   "source": [
    "stations_4_5_nhoods = {\"CROWN HTS-UTICA\":\"Crown Heights North\",\n",
    "                              \"PRESIDENT ST\":\"Crown Heights South\",\n",
    "                              \"BEVERLY RD\":\"East Flatbush\",\n",
    "                              \"CHURCH AV\": \"Flatbush\",\n",
    "                               \"NEWKIRK AV\":\"Flatbush\",\n",
    "                              \"FRANKLIN AV\": \"Prospect Lefferts Gardens\",\n",
    "                               \"STERLING ST\": \"Prospect Lefferts Gardens\",\n",
    "                                \"WINTHROP ST\":\"Prospect Lefferts Gardens\",\n",
    "                                \"ATL AV-BARCLAY\":\"Downtown Brooklyn\",\n",
    "                                \"NEVINS ST\":\"Downtown Brooklyn\",\n",
    "                                \"BOROUGH HALL\":\"Downtown Brooklyn\"\n",
    "                             }"
   ]
  },
  {
   "cell_type": "code",
   "execution_count": 54,
   "metadata": {},
   "outputs": [
    {
     "data": {
      "text/html": [
       "<div>\n",
       "<style scoped>\n",
       "    .dataframe tbody tr th:only-of-type {\n",
       "        vertical-align: middle;\n",
       "    }\n",
       "\n",
       "    .dataframe tbody tr th {\n",
       "        vertical-align: top;\n",
       "    }\n",
       "\n",
       "    .dataframe thead th {\n",
       "        text-align: right;\n",
       "    }\n",
       "</style>\n",
       "<table border=\"1\" class=\"dataframe\">\n",
       "  <thead>\n",
       "    <tr style=\"text-align: right;\">\n",
       "      <th></th>\n",
       "      <th>STATION</th>\n",
       "      <th>HOURLY_ENTRIES</th>\n",
       "      <th>INCOME</th>\n",
       "      <th>N_HOOD</th>\n",
       "    </tr>\n",
       "  </thead>\n",
       "  <tbody>\n",
       "    <tr>\n",
       "      <th>10</th>\n",
       "      <td>WINTHROP ST</td>\n",
       "      <td>121013.0</td>\n",
       "      <td>42462</td>\n",
       "      <td>Prospect Lefferts Gardens</td>\n",
       "    </tr>\n",
       "    <tr>\n",
       "      <th>7</th>\n",
       "      <td>NEWKIRK AV</td>\n",
       "      <td>124557.0</td>\n",
       "      <td>45332</td>\n",
       "      <td>Flatbush</td>\n",
       "    </tr>\n",
       "    <tr>\n",
       "      <th>8</th>\n",
       "      <td>PRESIDENT ST</td>\n",
       "      <td>131114.0</td>\n",
       "      <td>41745</td>\n",
       "      <td>Crown Heights South</td>\n",
       "    </tr>\n",
       "    <tr>\n",
       "      <th>1</th>\n",
       "      <td>BEVERLY RD</td>\n",
       "      <td>132692.0</td>\n",
       "      <td>50889</td>\n",
       "      <td>East Flatbush</td>\n",
       "    </tr>\n",
       "    <tr>\n",
       "      <th>9</th>\n",
       "      <td>STERLING ST</td>\n",
       "      <td>142206.0</td>\n",
       "      <td>42462</td>\n",
       "      <td>Prospect Lefferts Gardens</td>\n",
       "    </tr>\n",
       "    <tr>\n",
       "      <th>6</th>\n",
       "      <td>NEVINS ST</td>\n",
       "      <td>221255.0</td>\n",
       "      <td>84945</td>\n",
       "      <td>Downtown Brooklyn</td>\n",
       "    </tr>\n",
       "    <tr>\n",
       "      <th>5</th>\n",
       "      <td>FRANKLIN AV</td>\n",
       "      <td>609944.0</td>\n",
       "      <td>42462</td>\n",
       "      <td>Prospect Lefferts Gardens</td>\n",
       "    </tr>\n",
       "    <tr>\n",
       "      <th>4</th>\n",
       "      <td>CROWN HTS-UTICA</td>\n",
       "      <td>761424.0</td>\n",
       "      <td>37104</td>\n",
       "      <td>Crown Heights North</td>\n",
       "    </tr>\n",
       "    <tr>\n",
       "      <th>2</th>\n",
       "      <td>BOROUGH HALL</td>\n",
       "      <td>773457.0</td>\n",
       "      <td>84945</td>\n",
       "      <td>Downtown Brooklyn</td>\n",
       "    </tr>\n",
       "    <tr>\n",
       "      <th>3</th>\n",
       "      <td>CHURCH AV</td>\n",
       "      <td>943920.0</td>\n",
       "      <td>45332</td>\n",
       "      <td>Flatbush</td>\n",
       "    </tr>\n",
       "    <tr>\n",
       "      <th>0</th>\n",
       "      <td>ATL AV-BARCLAY</td>\n",
       "      <td>1157933.0</td>\n",
       "      <td>84945</td>\n",
       "      <td>Downtown Brooklyn</td>\n",
       "    </tr>\n",
       "  </tbody>\n",
       "</table>\n",
       "</div>"
      ],
      "text/plain": [
       "            STATION  HOURLY_ENTRIES  INCOME                     N_HOOD\n",
       "10      WINTHROP ST        121013.0   42462  Prospect Lefferts Gardens\n",
       "7        NEWKIRK AV        124557.0   45332                   Flatbush\n",
       "8      PRESIDENT ST        131114.0   41745        Crown Heights South\n",
       "1        BEVERLY RD        132692.0   50889              East Flatbush\n",
       "9       STERLING ST        142206.0   42462  Prospect Lefferts Gardens\n",
       "6         NEVINS ST        221255.0   84945          Downtown Brooklyn\n",
       "5       FRANKLIN AV        609944.0   42462  Prospect Lefferts Gardens\n",
       "4   CROWN HTS-UTICA        761424.0   37104        Crown Heights North\n",
       "2      BOROUGH HALL        773457.0   84945          Downtown Brooklyn\n",
       "3         CHURCH AV        943920.0   45332                   Flatbush\n",
       "0    ATL AV-BARCLAY       1157933.0   84945          Downtown Brooklyn"
      ]
     },
     "execution_count": 54,
     "metadata": {},
     "output_type": "execute_result"
    }
   ],
   "source": [
    "# Add Neighborhood and Income data to dataframe\n",
    "work_week_entries[\"N_HOOD\"] = work_week_entries['STATION'].map(stations_4_5_nhoods)\n",
    "work_week_entries[\"INCOME\"] = work_week_entries['STATION'].map(stations_4_5_inc)                                             "
   ]
  },
  {
   "cell_type": "code",
   "execution_count": 55,
   "metadata": {},
   "outputs": [],
   "source": [
    "# Create DataFrame grouped by Neighborhood\n",
    "df_norm_n_hood = pd.DataFrame(work_week_entries.groupby(\"N_HOOD\")[[\"HOURLY_ENTRIES\", \"INCOME\"]]\n",
    "                                    .agg({\"HOURLY_ENTRIES\": \"sum\",\n",
    "                                          \"INCOME\": \"mean\",\n",
    "                                         })\n",
    "                              )\n",
    "\n",
    "# Scale data\n",
    "df_norm_n_hood[\"INCOME\"] = (df_norm_n_hood[\"INCOME\"] - df_norm_n_hood[\"INCOME\"].mean()) / (df_norm_n_hood[\"INCOME\"].max() - df_norm_n_hood[\"INCOME\"].min())\n",
    "df_norm_n_hood[\"ENTRIES\"] = (df_norm_n_hood[\"HOURLY_ENTRIES\"] - df_norm_n_hood[\"HOURLY_ENTRIES\"].mean()) / (df_norm_n_hood[\"HOURLY_ENTRIES\"].max() - df_norm_n_hood[\"HOURLY_ENTRIES\"].min())\n"
   ]
  },
  {
   "cell_type": "code",
   "execution_count": 56,
   "metadata": {},
   "outputs": [
    {
     "data": {
      "text/html": [
       "<div>\n",
       "<style scoped>\n",
       "    .dataframe tbody tr th:only-of-type {\n",
       "        vertical-align: middle;\n",
       "    }\n",
       "\n",
       "    .dataframe tbody tr th {\n",
       "        vertical-align: top;\n",
       "    }\n",
       "\n",
       "    .dataframe thead th {\n",
       "        text-align: right;\n",
       "    }\n",
       "</style>\n",
       "<table border=\"1\" class=\"dataframe\">\n",
       "  <thead>\n",
       "    <tr style=\"text-align: right;\">\n",
       "      <th></th>\n",
       "      <th>INCOME</th>\n",
       "      <th>ENTRIES</th>\n",
       "    </tr>\n",
       "    <tr>\n",
       "      <th>N_HOOD</th>\n",
       "      <th></th>\n",
       "      <th></th>\n",
       "    </tr>\n",
       "  </thead>\n",
       "  <tbody>\n",
       "    <tr>\n",
       "      <th>Crown Heights North</th>\n",
       "      <td>-0.278189</td>\n",
       "      <td>-0.045425</td>\n",
       "    </tr>\n",
       "    <tr>\n",
       "      <th>Crown Heights South</th>\n",
       "      <td>-0.181180</td>\n",
       "      <td>-0.357224</td>\n",
       "    </tr>\n",
       "    <tr>\n",
       "      <th>Downtown Brooklyn</th>\n",
       "      <td>0.721811</td>\n",
       "      <td>0.642776</td>\n",
       "    </tr>\n",
       "    <tr>\n",
       "      <th>East Flatbush</th>\n",
       "      <td>0.009953</td>\n",
       "      <td>-0.356443</td>\n",
       "    </tr>\n",
       "    <tr>\n",
       "      <th>Flatbush</th>\n",
       "      <td>-0.106202</td>\n",
       "      <td>0.106466</td>\n",
       "    </tr>\n",
       "    <tr>\n",
       "      <th>Prospect Lefferts Gardens</th>\n",
       "      <td>-0.166193</td>\n",
       "      <td>0.009849</td>\n",
       "    </tr>\n",
       "  </tbody>\n",
       "</table>\n",
       "</div>"
      ],
      "text/plain": [
       "                             INCOME   ENTRIES\n",
       "N_HOOD                                       \n",
       "Crown Heights North       -0.278189 -0.045425\n",
       "Crown Heights South       -0.181180 -0.357224\n",
       "Downtown Brooklyn          0.721811  0.642776\n",
       "East Flatbush              0.009953 -0.356443\n",
       "Flatbush                  -0.106202  0.106466\n",
       "Prospect Lefferts Gardens -0.166193  0.009849"
      ]
     },
     "execution_count": 56,
     "metadata": {},
     "output_type": "execute_result"
    }
   ],
   "source": [
    "# Drop HOURLY_ENTRIES\n",
    "df_norm_n_hood.drop(columns = \"HOURLY_ENTRIES\", inplace = True)\n",
    "df_norm_n_hood"
   ]
  },
  {
   "cell_type": "code",
   "execution_count": 57,
   "metadata": {},
   "outputs": [],
   "source": [
    "# Create DataFrame grouped by Station\n",
    "df_norm_station = pd.DataFrame(work_week_entries.groupby(\"STATION\")[[\"HOURLY_ENTRIES\",\"INCOME\"]]\n",
    "                               .agg({'HOURLY_ENTRIES': 'sum',\n",
    "                                     'INCOME': 'mean'\n",
    "                                    })\n",
    "                              )\n",
    "# Scale data\n",
    "df_norm_station[\"INCOME\"] = (df_norm_station[\"INCOME\"] - df_norm_station[\"INCOME\"].mean()) / (df_norm_station[\"INCOME\"].max() - df_norm_station[\"INCOME\"].min())\n",
    "df_norm_station[\"ENTRIES\"] = (df_norm_station[\"HOURLY_ENTRIES\"] - df_norm_station[\"HOURLY_ENTRIES\"].mean()) / (df_norm_station[\"HOURLY_ENTRIES\"].max() - df_norm_station[\"HOURLY_ENTRIES\"].min())\n"
   ]
  },
  {
   "cell_type": "code",
   "execution_count": 58,
   "metadata": {},
   "outputs": [
    {
     "data": {
      "text/html": [
       "<div>\n",
       "<style scoped>\n",
       "    .dataframe tbody tr th:only-of-type {\n",
       "        vertical-align: middle;\n",
       "    }\n",
       "\n",
       "    .dataframe tbody tr th {\n",
       "        vertical-align: top;\n",
       "    }\n",
       "\n",
       "    .dataframe thead th {\n",
       "        text-align: right;\n",
       "    }\n",
       "</style>\n",
       "<table border=\"1\" class=\"dataframe\">\n",
       "  <thead>\n",
       "    <tr style=\"text-align: right;\">\n",
       "      <th></th>\n",
       "      <th>INCOME</th>\n",
       "      <th>ENTRIES</th>\n",
       "    </tr>\n",
       "    <tr>\n",
       "      <th>STATION</th>\n",
       "      <th></th>\n",
       "      <th></th>\n",
       "    </tr>\n",
       "  </thead>\n",
       "  <tbody>\n",
       "    <tr>\n",
       "      <th>ATL AV-BARCLAY</th>\n",
       "      <td>0.630444</td>\n",
       "      <td>0.667865</td>\n",
       "    </tr>\n",
       "    <tr>\n",
       "      <th>BEVERLY RD</th>\n",
       "      <td>-0.081414</td>\n",
       "      <td>-0.320872</td>\n",
       "    </tr>\n",
       "    <tr>\n",
       "      <th>BOROUGH HALL</th>\n",
       "      <td>0.630444</td>\n",
       "      <td>0.297078</td>\n",
       "    </tr>\n",
       "    <tr>\n",
       "      <th>CHURCH AV</th>\n",
       "      <td>-0.197569</td>\n",
       "      <td>0.461472</td>\n",
       "    </tr>\n",
       "    <tr>\n",
       "      <th>CROWN HTS-UTICA</th>\n",
       "      <td>-0.369556</td>\n",
       "      <td>0.285474</td>\n",
       "    </tr>\n",
       "    <tr>\n",
       "      <th>FRANKLIN AV</th>\n",
       "      <td>-0.257560</td>\n",
       "      <td>0.139387</td>\n",
       "    </tr>\n",
       "    <tr>\n",
       "      <th>NEVINS ST</th>\n",
       "      <td>0.630444</td>\n",
       "      <td>-0.235462</td>\n",
       "    </tr>\n",
       "    <tr>\n",
       "      <th>NEWKIRK AV</th>\n",
       "      <td>-0.197569</td>\n",
       "      <td>-0.328717</td>\n",
       "    </tr>\n",
       "    <tr>\n",
       "      <th>PRESIDENT ST</th>\n",
       "      <td>-0.272547</td>\n",
       "      <td>-0.322394</td>\n",
       "    </tr>\n",
       "    <tr>\n",
       "      <th>STERLING ST</th>\n",
       "      <td>-0.257560</td>\n",
       "      <td>-0.311697</td>\n",
       "    </tr>\n",
       "    <tr>\n",
       "      <th>WINTHROP ST</th>\n",
       "      <td>-0.257560</td>\n",
       "      <td>-0.332135</td>\n",
       "    </tr>\n",
       "  </tbody>\n",
       "</table>\n",
       "</div>"
      ],
      "text/plain": [
       "                   INCOME   ENTRIES\n",
       "STATION                            \n",
       "ATL AV-BARCLAY   0.630444  0.667865\n",
       "BEVERLY RD      -0.081414 -0.320872\n",
       "BOROUGH HALL     0.630444  0.297078\n",
       "CHURCH AV       -0.197569  0.461472\n",
       "CROWN HTS-UTICA -0.369556  0.285474\n",
       "FRANKLIN AV     -0.257560  0.139387\n",
       "NEVINS ST        0.630444 -0.235462\n",
       "NEWKIRK AV      -0.197569 -0.328717\n",
       "PRESIDENT ST    -0.272547 -0.322394\n",
       "STERLING ST     -0.257560 -0.311697\n",
       "WINTHROP ST     -0.257560 -0.332135"
      ]
     },
     "execution_count": 58,
     "metadata": {},
     "output_type": "execute_result"
    }
   ],
   "source": [
    "# Drop HOURLY_ENTRIES and view new df\n",
    "df_norm_station.drop(columns = \"HOURLY_ENTRIES\", inplace = True)\n",
    "df_norm_station"
   ]
  },
  {
   "cell_type": "code",
   "execution_count": 59,
   "metadata": {},
   "outputs": [
    {
     "data": {
      "image/png": "[encoded data removed]",
      "text/plain": [
       "<Figure size 432x288 with 2 Axes>"
      ]
     },
     "metadata": {},
     "output_type": "display_data"
    }
   ],
   "source": [
    "sns.heatmap(df_norm_station[[\"INCOME\",\"ENTRIES\"]], annot = True, cmap = \"Blues\")\n",
    "plt.title(\"Optimal Building Site by Station\", weight=\"bold\")\n",
    "plt.xticks(ticks=[0.5,1.5],labels=[\"Income\", \"Entries\"], fontsize=12)\n",
    "plt.ylabel(\"\");"
   ]
  },
  {
   "cell_type": "code",
   "execution_count": 60,
   "metadata": {},
   "outputs": [
    {
     "data": {
      "image/png": "[encoded data removed]",
      "text/plain": [
       "<Figure size 432x288 with 2 Axes>"
      ]
     },
     "metadata": {},
     "output_type": "display_data"
    }
   ],
   "source": [
    "sns.heatmap(df_norm_n_hood[[\"INCOME\",\"ENTRIES\"]], annot = True, cmap = \"Blues\")\n",
    "plt.xticks(ticks=[0.5,1.5],labels = [\"Income\", \"Entries\"])\n",
    "plt.title(\"Optimal Building Site by Neighborhood\", weight = \"bold\")\n",
    "plt.ylabel(\"\",rotation=90, labelpad=0);"
   ]
  }
 ],
 "metadata": {
  "kernelspec": {
   "display_name": "Python 3",
   "language": "python",
   "name": "python3"
  },
  "language_info": {
   "codemirror_mode": {
    "name": "ipython",
    "version": 3
   },
   "file_extension": ".py",
   "mimetype": "text/x-python",
   "name": "python",
   "nbconvert_exporter": "python",
   "pygments_lexer": "ipython3",
   "version": "3.7.4"
  }
 },
 "nbformat": 4,
 "nbformat_minor": 2
}
