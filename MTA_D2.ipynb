{
 "cells": [
  {
   "cell_type": "code",
   "execution_count": 1,
   "metadata": {},
   "outputs": [],
   "source": [
    "from __future__ import print_function, division\n",
    "import pandas as pd\n",
    "import numpy as np\n",
    "import matplotlib.pyplot as plt\n",
    "\n",
    "%matplotlib inline\n",
    "import datetime\n",
    "from datetime import datetime as dt\n",
    "import seaborn as sns "
   ]
  },
  {
   "cell_type": "code",
   "execution_count": 2,
   "metadata": {},
   "outputs": [],
   "source": [
    "# Source: http://web.mta.info/developers/turnstile.html\n",
    "def get_data(week_nums):\n",
    "    url = \"http://web.mta.info/developers/data/nyct/turnstile/turnstile_{}.txt\"\n",
    "    dfs = []\n",
    "    for week_num in week_nums:\n",
    "        file_url = url.format(week_num)\n",
    "        dfs.append(pd.read_csv(file_url))\n",
    "    return pd.concat(dfs)\n",
    "        \n",
    "week_nums = [160903, 160910, 160917]\n",
    "turnstiles_df = get_data(week_nums)\n",
    "turnstiles_df = turnstiles_df.reset_index(drop=True)"
   ]
  },
  {
   "cell_type": "code",
   "execution_count": 3,
   "metadata": {},
   "outputs": [],
   "source": [
    "turnstiles_df.columns = [column.strip() for column in turnstiles_df.columns]"
   ]
  },
  {
   "cell_type": "code",
   "execution_count": 4,
   "metadata": {},
   "outputs": [],
   "source": [
    "# Take the date and time fields into a single datetime column\n",
    "turnstiles_df[\"DATE_TIME\"] = pd.to_datetime(turnstiles_df.DATE + \" \" + turnstiles_df.TIME, \n",
    "                                            format=\"%m/%d/%Y %H:%M:%S\")"
   ]
  },
  {
   "cell_type": "code",
   "execution_count": 5,
   "metadata": {},
   "outputs": [],
   "source": [
    "turnstiles_df[\"Day_Name\"] = turnstiles_df[\"DATE_TIME\"].dt.day_name()"
   ]
  },
  {
   "cell_type": "code",
   "execution_count": 6,
   "metadata": {},
   "outputs": [
    {
     "data": {
      "text/html": [
       "<div>\n",
       "<style scoped>\n",
       "    .dataframe tbody tr th:only-of-type {\n",
       "        vertical-align: middle;\n",
       "    }\n",
       "\n",
       "    .dataframe tbody tr th {\n",
       "        vertical-align: top;\n",
       "    }\n",
       "\n",
       "    .dataframe thead th {\n",
       "        text-align: right;\n",
       "    }\n",
       "</style>\n",
       "<table border=\"1\" class=\"dataframe\">\n",
       "  <thead>\n",
       "    <tr style=\"text-align: right;\">\n",
       "      <th></th>\n",
       "      <th>C/A</th>\n",
       "      <th>UNIT</th>\n",
       "      <th>SCP</th>\n",
       "      <th>STATION</th>\n",
       "      <th>LINENAME</th>\n",
       "      <th>DIVISION</th>\n",
       "      <th>DATE</th>\n",
       "      <th>TIME</th>\n",
       "      <th>DESC</th>\n",
       "      <th>ENTRIES</th>\n",
       "      <th>EXITS</th>\n",
       "      <th>DATE_TIME</th>\n",
       "      <th>Day_Name</th>\n",
       "    </tr>\n",
       "  </thead>\n",
       "  <tbody>\n",
       "    <tr>\n",
       "      <td>0</td>\n",
       "      <td>A002</td>\n",
       "      <td>R051</td>\n",
       "      <td>02-00-00</td>\n",
       "      <td>59 ST</td>\n",
       "      <td>NQR456</td>\n",
       "      <td>BMT</td>\n",
       "      <td>08/27/2016</td>\n",
       "      <td>00:00:00</td>\n",
       "      <td>REGULAR</td>\n",
       "      <td>5799442</td>\n",
       "      <td>1966041</td>\n",
       "      <td>2016-08-27 00:00:00</td>\n",
       "      <td>Saturday</td>\n",
       "    </tr>\n",
       "    <tr>\n",
       "      <td>1</td>\n",
       "      <td>A002</td>\n",
       "      <td>R051</td>\n",
       "      <td>02-00-00</td>\n",
       "      <td>59 ST</td>\n",
       "      <td>NQR456</td>\n",
       "      <td>BMT</td>\n",
       "      <td>08/27/2016</td>\n",
       "      <td>04:00:00</td>\n",
       "      <td>REGULAR</td>\n",
       "      <td>5799463</td>\n",
       "      <td>1966044</td>\n",
       "      <td>2016-08-27 04:00:00</td>\n",
       "      <td>Saturday</td>\n",
       "    </tr>\n",
       "    <tr>\n",
       "      <td>2</td>\n",
       "      <td>A002</td>\n",
       "      <td>R051</td>\n",
       "      <td>02-00-00</td>\n",
       "      <td>59 ST</td>\n",
       "      <td>NQR456</td>\n",
       "      <td>BMT</td>\n",
       "      <td>08/27/2016</td>\n",
       "      <td>08:00:00</td>\n",
       "      <td>REGULAR</td>\n",
       "      <td>5799492</td>\n",
       "      <td>1966079</td>\n",
       "      <td>2016-08-27 08:00:00</td>\n",
       "      <td>Saturday</td>\n",
       "    </tr>\n",
       "    <tr>\n",
       "      <td>3</td>\n",
       "      <td>A002</td>\n",
       "      <td>R051</td>\n",
       "      <td>02-00-00</td>\n",
       "      <td>59 ST</td>\n",
       "      <td>NQR456</td>\n",
       "      <td>BMT</td>\n",
       "      <td>08/27/2016</td>\n",
       "      <td>12:00:00</td>\n",
       "      <td>REGULAR</td>\n",
       "      <td>5799610</td>\n",
       "      <td>1966155</td>\n",
       "      <td>2016-08-27 12:00:00</td>\n",
       "      <td>Saturday</td>\n",
       "    </tr>\n",
       "    <tr>\n",
       "      <td>4</td>\n",
       "      <td>A002</td>\n",
       "      <td>R051</td>\n",
       "      <td>02-00-00</td>\n",
       "      <td>59 ST</td>\n",
       "      <td>NQR456</td>\n",
       "      <td>BMT</td>\n",
       "      <td>08/27/2016</td>\n",
       "      <td>16:00:00</td>\n",
       "      <td>REGULAR</td>\n",
       "      <td>5799833</td>\n",
       "      <td>1966214</td>\n",
       "      <td>2016-08-27 16:00:00</td>\n",
       "      <td>Saturday</td>\n",
       "    </tr>\n",
       "  </tbody>\n",
       "</table>\n",
       "</div>"
      ],
      "text/plain": [
       "    C/A  UNIT       SCP STATION LINENAME DIVISION        DATE      TIME  \\\n",
       "0  A002  R051  02-00-00   59 ST   NQR456      BMT  08/27/2016  00:00:00   \n",
       "1  A002  R051  02-00-00   59 ST   NQR456      BMT  08/27/2016  04:00:00   \n",
       "2  A002  R051  02-00-00   59 ST   NQR456      BMT  08/27/2016  08:00:00   \n",
       "3  A002  R051  02-00-00   59 ST   NQR456      BMT  08/27/2016  12:00:00   \n",
       "4  A002  R051  02-00-00   59 ST   NQR456      BMT  08/27/2016  16:00:00   \n",
       "\n",
       "      DESC  ENTRIES    EXITS           DATE_TIME  Day_Name  \n",
       "0  REGULAR  5799442  1966041 2016-08-27 00:00:00  Saturday  \n",
       "1  REGULAR  5799463  1966044 2016-08-27 04:00:00  Saturday  \n",
       "2  REGULAR  5799492  1966079 2016-08-27 08:00:00  Saturday  \n",
       "3  REGULAR  5799610  1966155 2016-08-27 12:00:00  Saturday  \n",
       "4  REGULAR  5799833  1966214 2016-08-27 16:00:00  Saturday  "
      ]
     },
     "execution_count": 6,
     "metadata": {},
     "output_type": "execute_result"
    }
   ],
   "source": [
    "turnstiles_df.head()"
   ]
  },
  {
   "cell_type": "code",
   "execution_count": 7,
   "metadata": {},
   "outputs": [],
   "source": [
    "#remove the weekends\n",
    "df_weekdays = turnstiles_df[(turnstiles_df[\"Day_Name\"] != \"Saturday\") & (turnstiles_df[\"Day_Name\"] != \"Sunday\")]"
   ]
  },
  {
   "cell_type": "code",
   "execution_count": 8,
   "metadata": {},
   "outputs": [
    {
     "data": {
      "text/plain": [
       "array(['Monday', 'Tuesday', 'Wednesday', 'Thursday', 'Friday'],\n",
       "      dtype=object)"
      ]
     },
     "execution_count": 8,
     "metadata": {},
     "output_type": "execute_result"
    }
   ],
   "source": [
    "df_weekdays.Day_Name.unique()"
   ]
  },
  {
   "cell_type": "code",
   "execution_count": 9,
   "metadata": {},
   "outputs": [
    {
     "name": "stderr",
     "output_type": "stream",
     "text": [
      "/Users/elena/opt/anaconda3/lib/python3.7/site-packages/ipykernel_launcher.py:1: SettingWithCopyWarning: \n",
      "A value is trying to be set on a copy of a slice from a DataFrame.\n",
      "Try using .loc[row_indexer,col_indexer] = value instead\n",
      "\n",
      "See the caveats in the documentation: http://pandas.pydata.org/pandas-docs/stable/user_guide/indexing.html#returning-a-view-versus-a-copy\n",
      "  \"\"\"Entry point for launching an IPython kernel.\n"
     ]
    }
   ],
   "source": [
    "df_weekdays['Turnstile'] = df_weekdays['C/A'] + df_weekdays['UNIT'] + df_weekdays['SCP']"
   ]
  },
  {
   "cell_type": "code",
   "execution_count": 10,
   "metadata": {},
   "outputs": [
    {
     "name": "stderr",
     "output_type": "stream",
     "text": [
      "/Users/elena/opt/anaconda3/lib/python3.7/site-packages/ipykernel_launcher.py:1: SettingWithCopyWarning: \n",
      "A value is trying to be set on a copy of a slice from a DataFrame.\n",
      "Try using .loc[row_indexer,col_indexer] = value instead\n",
      "\n",
      "See the caveats in the documentation: http://pandas.pydata.org/pandas-docs/stable/user_guide/indexing.html#returning-a-view-versus-a-copy\n",
      "  \"\"\"Entry point for launching an IPython kernel.\n"
     ]
    }
   ],
   "source": [
    "df_weekdays['bins'] = df_weekdays.groupby([\"Turnstile\", \"DATE\"]).cumcount()"
   ]
  },
  {
   "cell_type": "code",
   "execution_count": 11,
   "metadata": {},
   "outputs": [
    {
     "data": {
      "text/plain": [
       "bins  TIME    \n",
       "0     00:00:00    36181\n",
       "      00:00:02        2\n",
       "      00:00:11        1\n",
       "      00:00:15        1\n",
       "      00:00:19        2\n",
       "                  ...  \n",
       "12    16:00:00        4\n",
       "      17:00:00        5\n",
       "      21:00:00        7\n",
       "13    20:00:00        4\n",
       "      21:00:00        5\n",
       "Name: TIME, Length: 16026, dtype: int64"
      ]
     },
     "execution_count": 11,
     "metadata": {},
     "output_type": "execute_result"
    }
   ],
   "source": [
    "#draft\n",
    "df_weekdays.groupby(['bins','TIME']).TIME.count()\n",
    "#df_weekdays[df_weekdays['bins' <= 2 & bins >= 3]].groupby(['bins','TIME']).TIME.count()"
   ]
  },
  {
   "cell_type": "code",
   "execution_count": 12,
   "metadata": {},
   "outputs": [
    {
     "name": "stderr",
     "output_type": "stream",
     "text": [
      "/Users/elena/opt/anaconda3/lib/python3.7/site-packages/ipykernel_launcher.py:3: SettingWithCopyWarning: \n",
      "A value is trying to be set on a copy of a slice from a DataFrame\n",
      "\n",
      "See the caveats in the documentation: http://pandas.pydata.org/pandas-docs/stable/user_guide/indexing.html#returning-a-view-versus-a-copy\n",
      "  This is separate from the ipykernel package so we can avoid doing imports until\n",
      "/Users/elena/opt/anaconda3/lib/python3.7/site-packages/ipykernel_launcher.py:4: SettingWithCopyWarning: \n",
      "A value is trying to be set on a copy of a slice from a DataFrame\n",
      "\n",
      "See the caveats in the documentation: http://pandas.pydata.org/pandas-docs/stable/user_guide/indexing.html#returning-a-view-versus-a-copy\n",
      "  after removing the cwd from sys.path.\n"
     ]
    }
   ],
   "source": [
    "# Get rid of the duplicate entry\n",
    "df_weekdays.sort_values([\"C/A\", \"UNIT\", \"SCP\", \"STATION\", \"DATE_TIME\"], \n",
    "                          inplace=True, ascending=False)\n",
    "df_weekdays.drop_duplicates(subset=[\"C/A\", \"UNIT\", \"SCP\", \"STATION\", \"DATE_TIME\"], inplace=True)"
   ]
  },
  {
   "cell_type": "code",
   "execution_count": 13,
   "metadata": {},
   "outputs": [
    {
     "data": {
      "text/plain": [
       "(416988, 15)"
      ]
     },
     "execution_count": 13,
     "metadata": {},
     "output_type": "execute_result"
    }
   ],
   "source": [
    "df_weekdays.shape"
   ]
  },
  {
   "cell_type": "code",
   "execution_count": 14,
   "metadata": {},
   "outputs": [
    {
     "name": "stderr",
     "output_type": "stream",
     "text": [
      "/Users/elena/opt/anaconda3/lib/python3.7/site-packages/pandas/core/frame.py:3494: SettingWithCopyWarning: \n",
      "A value is trying to be set on a copy of a slice from a DataFrame.\n",
      "Try using .loc[row_indexer,col_indexer] = value instead\n",
      "\n",
      "See the caveats in the documentation: http://pandas.pydata.org/pandas-docs/stable/user_guide/indexing.html#returning-a-view-versus-a-copy\n",
      "  self[k1] = value[k2]\n"
     ]
    }
   ],
   "source": [
    "df_weekdays[[\"PREV_DATE\", \"PREV_ENTRIES\"]] = (df_weekdays\n",
    "                                                       .groupby([\"C/A\", \"UNIT\", \"SCP\", \"STATION\"])[\"DATE\", \"ENTRIES\"]\n",
    "                                                       .apply(lambda grp: grp.shift(1)))"
   ]
  },
  {
   "cell_type": "code",
   "execution_count": 15,
   "metadata": {},
   "outputs": [],
   "source": [
    "df_weekdays[[\"PREV_DATE\", \"PREV_EXITS\"]] = (df_weekdays\n",
    "                                                       .groupby([\"C/A\", \"UNIT\", \"SCP\", \"STATION\"])[\"DATE\", \"EXITS\"]\n",
    "                                                       .apply(lambda grp: grp.shift(1)))"
   ]
  },
  {
   "cell_type": "code",
   "execution_count": 16,
   "metadata": {},
   "outputs": [
    {
     "data": {
      "text/html": [
       "<div>\n",
       "<style scoped>\n",
       "    .dataframe tbody tr th:only-of-type {\n",
       "        vertical-align: middle;\n",
       "    }\n",
       "\n",
       "    .dataframe tbody tr th {\n",
       "        vertical-align: top;\n",
       "    }\n",
       "\n",
       "    .dataframe thead th {\n",
       "        text-align: right;\n",
       "    }\n",
       "</style>\n",
       "<table border=\"1\" class=\"dataframe\">\n",
       "  <thead>\n",
       "    <tr style=\"text-align: right;\">\n",
       "      <th></th>\n",
       "      <th>C/A</th>\n",
       "      <th>UNIT</th>\n",
       "      <th>SCP</th>\n",
       "      <th>STATION</th>\n",
       "      <th>LINENAME</th>\n",
       "      <th>DIVISION</th>\n",
       "      <th>DATE</th>\n",
       "      <th>TIME</th>\n",
       "      <th>DESC</th>\n",
       "      <th>ENTRIES</th>\n",
       "      <th>EXITS</th>\n",
       "      <th>DATE_TIME</th>\n",
       "      <th>Day_Name</th>\n",
       "      <th>Turnstile</th>\n",
       "      <th>bins</th>\n",
       "      <th>PREV_DATE</th>\n",
       "      <th>PREV_ENTRIES</th>\n",
       "      <th>PREV_EXITS</th>\n",
       "    </tr>\n",
       "  </thead>\n",
       "  <tbody>\n",
       "    <tr>\n",
       "      <td>580894</td>\n",
       "      <td>TRAM2</td>\n",
       "      <td>R469</td>\n",
       "      <td>00-05-01</td>\n",
       "      <td>RIT-ROOSEVELT</td>\n",
       "      <td>R</td>\n",
       "      <td>RIT</td>\n",
       "      <td>09/16/2016</td>\n",
       "      <td>21:00:00</td>\n",
       "      <td>REGULAR</td>\n",
       "      <td>5554</td>\n",
       "      <td>271</td>\n",
       "      <td>2016-09-16 21:00:00</td>\n",
       "      <td>Friday</td>\n",
       "      <td>TRAM2R46900-05-01</td>\n",
       "      <td>5</td>\n",
       "      <td>NaN</td>\n",
       "      <td>NaN</td>\n",
       "      <td>NaN</td>\n",
       "    </tr>\n",
       "    <tr>\n",
       "      <td>580893</td>\n",
       "      <td>TRAM2</td>\n",
       "      <td>R469</td>\n",
       "      <td>00-05-01</td>\n",
       "      <td>RIT-ROOSEVELT</td>\n",
       "      <td>R</td>\n",
       "      <td>RIT</td>\n",
       "      <td>09/16/2016</td>\n",
       "      <td>17:00:00</td>\n",
       "      <td>REGULAR</td>\n",
       "      <td>5554</td>\n",
       "      <td>271</td>\n",
       "      <td>2016-09-16 17:00:00</td>\n",
       "      <td>Friday</td>\n",
       "      <td>TRAM2R46900-05-01</td>\n",
       "      <td>4</td>\n",
       "      <td>09/16/2016</td>\n",
       "      <td>5554.0</td>\n",
       "      <td>271.0</td>\n",
       "    </tr>\n",
       "    <tr>\n",
       "      <td>580892</td>\n",
       "      <td>TRAM2</td>\n",
       "      <td>R469</td>\n",
       "      <td>00-05-01</td>\n",
       "      <td>RIT-ROOSEVELT</td>\n",
       "      <td>R</td>\n",
       "      <td>RIT</td>\n",
       "      <td>09/16/2016</td>\n",
       "      <td>13:00:00</td>\n",
       "      <td>REGULAR</td>\n",
       "      <td>5554</td>\n",
       "      <td>271</td>\n",
       "      <td>2016-09-16 13:00:00</td>\n",
       "      <td>Friday</td>\n",
       "      <td>TRAM2R46900-05-01</td>\n",
       "      <td>3</td>\n",
       "      <td>09/16/2016</td>\n",
       "      <td>5554.0</td>\n",
       "      <td>271.0</td>\n",
       "    </tr>\n",
       "    <tr>\n",
       "      <td>580891</td>\n",
       "      <td>TRAM2</td>\n",
       "      <td>R469</td>\n",
       "      <td>00-05-01</td>\n",
       "      <td>RIT-ROOSEVELT</td>\n",
       "      <td>R</td>\n",
       "      <td>RIT</td>\n",
       "      <td>09/16/2016</td>\n",
       "      <td>09:00:00</td>\n",
       "      <td>REGULAR</td>\n",
       "      <td>5554</td>\n",
       "      <td>271</td>\n",
       "      <td>2016-09-16 09:00:00</td>\n",
       "      <td>Friday</td>\n",
       "      <td>TRAM2R46900-05-01</td>\n",
       "      <td>2</td>\n",
       "      <td>09/16/2016</td>\n",
       "      <td>5554.0</td>\n",
       "      <td>271.0</td>\n",
       "    </tr>\n",
       "    <tr>\n",
       "      <td>580890</td>\n",
       "      <td>TRAM2</td>\n",
       "      <td>R469</td>\n",
       "      <td>00-05-01</td>\n",
       "      <td>RIT-ROOSEVELT</td>\n",
       "      <td>R</td>\n",
       "      <td>RIT</td>\n",
       "      <td>09/16/2016</td>\n",
       "      <td>05:00:00</td>\n",
       "      <td>REGULAR</td>\n",
       "      <td>5554</td>\n",
       "      <td>271</td>\n",
       "      <td>2016-09-16 05:00:00</td>\n",
       "      <td>Friday</td>\n",
       "      <td>TRAM2R46900-05-01</td>\n",
       "      <td>1</td>\n",
       "      <td>09/16/2016</td>\n",
       "      <td>5554.0</td>\n",
       "      <td>271.0</td>\n",
       "    </tr>\n",
       "  </tbody>\n",
       "</table>\n",
       "</div>"
      ],
      "text/plain": [
       "          C/A  UNIT       SCP        STATION LINENAME DIVISION        DATE  \\\n",
       "580894  TRAM2  R469  00-05-01  RIT-ROOSEVELT        R      RIT  09/16/2016   \n",
       "580893  TRAM2  R469  00-05-01  RIT-ROOSEVELT        R      RIT  09/16/2016   \n",
       "580892  TRAM2  R469  00-05-01  RIT-ROOSEVELT        R      RIT  09/16/2016   \n",
       "580891  TRAM2  R469  00-05-01  RIT-ROOSEVELT        R      RIT  09/16/2016   \n",
       "580890  TRAM2  R469  00-05-01  RIT-ROOSEVELT        R      RIT  09/16/2016   \n",
       "\n",
       "            TIME     DESC  ENTRIES  EXITS           DATE_TIME Day_Name  \\\n",
       "580894  21:00:00  REGULAR     5554    271 2016-09-16 21:00:00   Friday   \n",
       "580893  17:00:00  REGULAR     5554    271 2016-09-16 17:00:00   Friday   \n",
       "580892  13:00:00  REGULAR     5554    271 2016-09-16 13:00:00   Friday   \n",
       "580891  09:00:00  REGULAR     5554    271 2016-09-16 09:00:00   Friday   \n",
       "580890  05:00:00  REGULAR     5554    271 2016-09-16 05:00:00   Friday   \n",
       "\n",
       "                Turnstile  bins   PREV_DATE  PREV_ENTRIES  PREV_EXITS  \n",
       "580894  TRAM2R46900-05-01     5         NaN           NaN         NaN  \n",
       "580893  TRAM2R46900-05-01     4  09/16/2016        5554.0       271.0  \n",
       "580892  TRAM2R46900-05-01     3  09/16/2016        5554.0       271.0  \n",
       "580891  TRAM2R46900-05-01     2  09/16/2016        5554.0       271.0  \n",
       "580890  TRAM2R46900-05-01     1  09/16/2016        5554.0       271.0  "
      ]
     },
     "execution_count": 16,
     "metadata": {},
     "output_type": "execute_result"
    }
   ],
   "source": [
    "df_weekdays.head()"
   ]
  },
  {
   "cell_type": "code",
   "execution_count": 17,
   "metadata": {},
   "outputs": [
    {
     "name": "stderr",
     "output_type": "stream",
     "text": [
      "/Users/elena/opt/anaconda3/lib/python3.7/site-packages/ipykernel_launcher.py:2: SettingWithCopyWarning: \n",
      "A value is trying to be set on a copy of a slice from a DataFrame\n",
      "\n",
      "See the caveats in the documentation: http://pandas.pydata.org/pandas-docs/stable/user_guide/indexing.html#returning-a-view-versus-a-copy\n",
      "  \n"
     ]
    }
   ],
   "source": [
    "# Drop the rows for the earliest date in the df\n",
    "df_weekdays.dropna(subset=[\"PREV_DATE\"], axis=0, inplace=True)"
   ]
  },
  {
   "cell_type": "code",
   "execution_count": 18,
   "metadata": {},
   "outputs": [
    {
     "name": "stderr",
     "output_type": "stream",
     "text": [
      "/Users/elena/opt/anaconda3/lib/python3.7/site-packages/ipykernel_launcher.py:18: SettingWithCopyWarning: \n",
      "A value is trying to be set on a copy of a slice from a DataFrame.\n",
      "Try using .loc[row_indexer,col_indexer] = value instead\n",
      "\n",
      "See the caveats in the documentation: http://pandas.pydata.org/pandas-docs/stable/user_guide/indexing.html#returning-a-view-versus-a-copy\n"
     ]
    }
   ],
   "source": [
    "def get_daily_counts(row, max_counter):\n",
    "    counter = row[\"ENTRIES\"] - row[\"PREV_ENTRIES\"]\n",
    "    if counter < 0:\n",
    "        # Maybe counter is reversed?\n",
    "        counter = -counter\n",
    "    if counter > max_counter:\n",
    "        # Maybe counter was reset to 0? \n",
    "        #print(row[\"ENTRIES\"], row[\"PREV_ENTRIES\"])\n",
    "        counter = min(row[\"ENTRIES\"], row[\"PREV_ENTRIES\"])\n",
    "    if counter > max_counter:\n",
    "        # Check it again to make sure we're not still giving a counter that's too big\n",
    "        return 0\n",
    "    return counter\n",
    "\n",
    "# If counter is > 1Million, then the counter might have been reset.  \n",
    "# Just set it to zero as different counters have different cycle limits\n",
    "# It'd probably be a good idea to use a number even significantly smaller than 1 million as the limit!\n",
    "df_weekdays[\"DAILY_ENTRIES\"] = df_weekdays.apply(get_daily_counts, axis=1, max_counter=100000)"
   ]
  },
  {
   "cell_type": "code",
   "execution_count": 19,
   "metadata": {},
   "outputs": [
    {
     "name": "stderr",
     "output_type": "stream",
     "text": [
      "/Users/elena/opt/anaconda3/lib/python3.7/site-packages/ipykernel_launcher.py:18: SettingWithCopyWarning: \n",
      "A value is trying to be set on a copy of a slice from a DataFrame.\n",
      "Try using .loc[row_indexer,col_indexer] = value instead\n",
      "\n",
      "See the caveats in the documentation: http://pandas.pydata.org/pandas-docs/stable/user_guide/indexing.html#returning-a-view-versus-a-copy\n"
     ]
    }
   ],
   "source": [
    "def get_daily_counts(row, max_counter):\n",
    "    counter = row[\"EXITS\"] - row[\"PREV_EXITS\"]\n",
    "    if counter < 0:\n",
    "        # Maybe counter is reversed?\n",
    "        counter = -counter\n",
    "    if counter > max_counter:\n",
    "        # Maybe counter was reset to 0? \n",
    "        #print(row[\"ENTRIES\"], row[\"PREV_ENTRIES\"])\n",
    "        counter = min(row[\"EXITS\"], row[\"PREV_EXITS\"])\n",
    "    if counter > max_counter:\n",
    "        # Check it again to make sure we're not still giving a counter that's too big\n",
    "        return 0\n",
    "    return counter\n",
    "\n",
    "# If counter is > 1Million, then the counter might have been reset.  \n",
    "# Just set it to zero as different counters have different cycle limits\n",
    "# It'd probably be a good idea to use a number even significantly smaller than 1 million as the limit!\n",
    "df_weekdays[\"DAILY_EXITS\"] = df_weekdays.apply(get_daily_counts, axis=1, max_counter=100000)"
   ]
  },
  {
   "cell_type": "code",
   "execution_count": 20,
   "metadata": {},
   "outputs": [
    {
     "name": "stderr",
     "output_type": "stream",
     "text": [
      "/Users/elena/opt/anaconda3/lib/python3.7/site-packages/pandas/core/frame.py:4223: SettingWithCopyWarning: \n",
      "A value is trying to be set on a copy of a slice from a DataFrame\n",
      "\n",
      "See the caveats in the documentation: http://pandas.pydata.org/pandas-docs/stable/user_guide/indexing.html#returning-a-view-versus-a-copy\n",
      "  return super().rename(**kwargs)\n"
     ]
    }
   ],
   "source": [
    "df_weekdays.rename(columns = {'DAILY_EXITS':'HOURLY_EXITS','DAILY_ENTRIES':'HOURLY_ENTRIES' }, inplace=True)"
   ]
  },
  {
   "cell_type": "code",
   "execution_count": 21,
   "metadata": {},
   "outputs": [],
   "source": [
    "#sum(df_weekdays[\"DAILY_ENTRIES\"] != 0.0)"
   ]
  },
  {
   "cell_type": "code",
   "execution_count": 22,
   "metadata": {},
   "outputs": [],
   "source": [
    "#df_weekdays['bins'].mean()"
   ]
  },
  {
   "cell_type": "code",
   "execution_count": 23,
   "metadata": {},
   "outputs": [],
   "source": [
    "df_final = df_weekdays[(df_weekdays[\"TIME\"] >= \"07:00:00\") & (df_weekdays[\"TIME\"] <= \"11:00:00\")]"
   ]
  },
  {
   "cell_type": "code",
   "execution_count": 24,
   "metadata": {},
   "outputs": [
    {
     "data": {
      "text/plain": [
       "count    74830.000000\n",
       "mean       252.718776\n",
       "std        583.664987\n",
       "min          0.000000\n",
       "25%         44.000000\n",
       "50%        161.000000\n",
       "75%        353.000000\n",
       "max      98988.000000\n",
       "Name: HOURLY_ENTRIES, dtype: float64"
      ]
     },
     "execution_count": 24,
     "metadata": {},
     "output_type": "execute_result"
    }
   ],
   "source": [
    "df_final['HOURLY_ENTRIES'].describe()"
   ]
  },
  {
   "cell_type": "code",
   "execution_count": 25,
   "metadata": {},
   "outputs": [
    {
     "data": {
      "text/plain": [
       "count    74830.000000\n",
       "mean       218.304143\n",
       "std        767.275580\n",
       "min          0.000000\n",
       "25%         25.000000\n",
       "50%         96.000000\n",
       "75%        261.000000\n",
       "max      97034.000000\n",
       "Name: HOURLY_EXITS, dtype: float64"
      ]
     },
     "execution_count": 25,
     "metadata": {},
     "output_type": "execute_result"
    }
   ],
   "source": [
    "df_final['HOURLY_EXITS'].describe()"
   ]
  },
  {
   "cell_type": "code",
   "execution_count": 26,
   "metadata": {},
   "outputs": [
    {
     "data": {
      "text/html": [
       "<div>\n",
       "<style scoped>\n",
       "    .dataframe tbody tr th:only-of-type {\n",
       "        vertical-align: middle;\n",
       "    }\n",
       "\n",
       "    .dataframe tbody tr th {\n",
       "        vertical-align: top;\n",
       "    }\n",
       "\n",
       "    .dataframe thead th {\n",
       "        text-align: right;\n",
       "    }\n",
       "</style>\n",
       "<table border=\"1\" class=\"dataframe\">\n",
       "  <thead>\n",
       "    <tr style=\"text-align: right;\">\n",
       "      <th></th>\n",
       "      <th>C/A</th>\n",
       "      <th>UNIT</th>\n",
       "      <th>SCP</th>\n",
       "      <th>STATION</th>\n",
       "      <th>LINENAME</th>\n",
       "      <th>DIVISION</th>\n",
       "      <th>DATE</th>\n",
       "      <th>TIME</th>\n",
       "      <th>DESC</th>\n",
       "      <th>ENTRIES</th>\n",
       "      <th>EXITS</th>\n",
       "      <th>DATE_TIME</th>\n",
       "      <th>Day_Name</th>\n",
       "      <th>Turnstile</th>\n",
       "      <th>bins</th>\n",
       "      <th>PREV_DATE</th>\n",
       "      <th>PREV_ENTRIES</th>\n",
       "      <th>PREV_EXITS</th>\n",
       "      <th>HOURLY_ENTRIES</th>\n",
       "      <th>HOURLY_EXITS</th>\n",
       "    </tr>\n",
       "  </thead>\n",
       "  <tbody>\n",
       "    <tr>\n",
       "      <td>580891</td>\n",
       "      <td>TRAM2</td>\n",
       "      <td>R469</td>\n",
       "      <td>00-05-01</td>\n",
       "      <td>RIT-ROOSEVELT</td>\n",
       "      <td>R</td>\n",
       "      <td>RIT</td>\n",
       "      <td>09/16/2016</td>\n",
       "      <td>09:00:00</td>\n",
       "      <td>REGULAR</td>\n",
       "      <td>5554</td>\n",
       "      <td>271</td>\n",
       "      <td>2016-09-16 09:00:00</td>\n",
       "      <td>Friday</td>\n",
       "      <td>TRAM2R46900-05-01</td>\n",
       "      <td>2</td>\n",
       "      <td>09/16/2016</td>\n",
       "      <td>5554.0</td>\n",
       "      <td>271.0</td>\n",
       "      <td>0.0</td>\n",
       "      <td>0.0</td>\n",
       "    </tr>\n",
       "    <tr>\n",
       "      <td>580885</td>\n",
       "      <td>TRAM2</td>\n",
       "      <td>R469</td>\n",
       "      <td>00-05-01</td>\n",
       "      <td>RIT-ROOSEVELT</td>\n",
       "      <td>R</td>\n",
       "      <td>RIT</td>\n",
       "      <td>09/15/2016</td>\n",
       "      <td>09:00:00</td>\n",
       "      <td>REGULAR</td>\n",
       "      <td>5554</td>\n",
       "      <td>271</td>\n",
       "      <td>2016-09-15 09:00:00</td>\n",
       "      <td>Thursday</td>\n",
       "      <td>TRAM2R46900-05-01</td>\n",
       "      <td>2</td>\n",
       "      <td>09/15/2016</td>\n",
       "      <td>5554.0</td>\n",
       "      <td>271.0</td>\n",
       "      <td>0.0</td>\n",
       "      <td>0.0</td>\n",
       "    </tr>\n",
       "    <tr>\n",
       "      <td>580879</td>\n",
       "      <td>TRAM2</td>\n",
       "      <td>R469</td>\n",
       "      <td>00-05-01</td>\n",
       "      <td>RIT-ROOSEVELT</td>\n",
       "      <td>R</td>\n",
       "      <td>RIT</td>\n",
       "      <td>09/14/2016</td>\n",
       "      <td>09:00:00</td>\n",
       "      <td>REGULAR</td>\n",
       "      <td>5554</td>\n",
       "      <td>271</td>\n",
       "      <td>2016-09-14 09:00:00</td>\n",
       "      <td>Wednesday</td>\n",
       "      <td>TRAM2R46900-05-01</td>\n",
       "      <td>2</td>\n",
       "      <td>09/14/2016</td>\n",
       "      <td>5554.0</td>\n",
       "      <td>271.0</td>\n",
       "      <td>0.0</td>\n",
       "      <td>0.0</td>\n",
       "    </tr>\n",
       "    <tr>\n",
       "      <td>580873</td>\n",
       "      <td>TRAM2</td>\n",
       "      <td>R469</td>\n",
       "      <td>00-05-01</td>\n",
       "      <td>RIT-ROOSEVELT</td>\n",
       "      <td>R</td>\n",
       "      <td>RIT</td>\n",
       "      <td>09/13/2016</td>\n",
       "      <td>09:00:00</td>\n",
       "      <td>REGULAR</td>\n",
       "      <td>5554</td>\n",
       "      <td>271</td>\n",
       "      <td>2016-09-13 09:00:00</td>\n",
       "      <td>Tuesday</td>\n",
       "      <td>TRAM2R46900-05-01</td>\n",
       "      <td>2</td>\n",
       "      <td>09/13/2016</td>\n",
       "      <td>5554.0</td>\n",
       "      <td>271.0</td>\n",
       "      <td>0.0</td>\n",
       "      <td>0.0</td>\n",
       "    </tr>\n",
       "    <tr>\n",
       "      <td>580867</td>\n",
       "      <td>TRAM2</td>\n",
       "      <td>R469</td>\n",
       "      <td>00-05-01</td>\n",
       "      <td>RIT-ROOSEVELT</td>\n",
       "      <td>R</td>\n",
       "      <td>RIT</td>\n",
       "      <td>09/12/2016</td>\n",
       "      <td>09:00:00</td>\n",
       "      <td>REGULAR</td>\n",
       "      <td>5554</td>\n",
       "      <td>271</td>\n",
       "      <td>2016-09-12 09:00:00</td>\n",
       "      <td>Monday</td>\n",
       "      <td>TRAM2R46900-05-01</td>\n",
       "      <td>2</td>\n",
       "      <td>09/12/2016</td>\n",
       "      <td>5554.0</td>\n",
       "      <td>271.0</td>\n",
       "      <td>0.0</td>\n",
       "      <td>0.0</td>\n",
       "    </tr>\n",
       "  </tbody>\n",
       "</table>\n",
       "</div>"
      ],
      "text/plain": [
       "          C/A  UNIT       SCP        STATION LINENAME DIVISION        DATE  \\\n",
       "580891  TRAM2  R469  00-05-01  RIT-ROOSEVELT        R      RIT  09/16/2016   \n",
       "580885  TRAM2  R469  00-05-01  RIT-ROOSEVELT        R      RIT  09/15/2016   \n",
       "580879  TRAM2  R469  00-05-01  RIT-ROOSEVELT        R      RIT  09/14/2016   \n",
       "580873  TRAM2  R469  00-05-01  RIT-ROOSEVELT        R      RIT  09/13/2016   \n",
       "580867  TRAM2  R469  00-05-01  RIT-ROOSEVELT        R      RIT  09/12/2016   \n",
       "\n",
       "            TIME     DESC  ENTRIES  EXITS           DATE_TIME   Day_Name  \\\n",
       "580891  09:00:00  REGULAR     5554    271 2016-09-16 09:00:00     Friday   \n",
       "580885  09:00:00  REGULAR     5554    271 2016-09-15 09:00:00   Thursday   \n",
       "580879  09:00:00  REGULAR     5554    271 2016-09-14 09:00:00  Wednesday   \n",
       "580873  09:00:00  REGULAR     5554    271 2016-09-13 09:00:00    Tuesday   \n",
       "580867  09:00:00  REGULAR     5554    271 2016-09-12 09:00:00     Monday   \n",
       "\n",
       "                Turnstile  bins   PREV_DATE  PREV_ENTRIES  PREV_EXITS  \\\n",
       "580891  TRAM2R46900-05-01     2  09/16/2016        5554.0       271.0   \n",
       "580885  TRAM2R46900-05-01     2  09/15/2016        5554.0       271.0   \n",
       "580879  TRAM2R46900-05-01     2  09/14/2016        5554.0       271.0   \n",
       "580873  TRAM2R46900-05-01     2  09/13/2016        5554.0       271.0   \n",
       "580867  TRAM2R46900-05-01     2  09/12/2016        5554.0       271.0   \n",
       "\n",
       "        HOURLY_ENTRIES  HOURLY_EXITS  \n",
       "580891             0.0           0.0  \n",
       "580885             0.0           0.0  \n",
       "580879             0.0           0.0  \n",
       "580873             0.0           0.0  \n",
       "580867             0.0           0.0  "
      ]
     },
     "execution_count": 26,
     "metadata": {},
     "output_type": "execute_result"
    }
   ],
   "source": [
    "df_final.head(5)"
   ]
  },
  {
   "cell_type": "code",
   "execution_count": 27,
   "metadata": {},
   "outputs": [
    {
     "data": {
      "text/html": [
       "<div>\n",
       "<style scoped>\n",
       "    .dataframe tbody tr th:only-of-type {\n",
       "        vertical-align: middle;\n",
       "    }\n",
       "\n",
       "    .dataframe tbody tr th {\n",
       "        vertical-align: top;\n",
       "    }\n",
       "\n",
       "    .dataframe thead th {\n",
       "        text-align: right;\n",
       "    }\n",
       "</style>\n",
       "<table border=\"1\" class=\"dataframe\">\n",
       "  <thead>\n",
       "    <tr style=\"text-align: right;\">\n",
       "      <th></th>\n",
       "      <th>STATION</th>\n",
       "      <th>HOURLY_EXITS</th>\n",
       "    </tr>\n",
       "  </thead>\n",
       "  <tbody>\n",
       "    <tr>\n",
       "      <td>0</td>\n",
       "      <td>1 AV</td>\n",
       "      <td>72797.0</td>\n",
       "    </tr>\n",
       "    <tr>\n",
       "      <td>1</td>\n",
       "      <td>103 ST</td>\n",
       "      <td>51323.0</td>\n",
       "    </tr>\n",
       "    <tr>\n",
       "      <td>2</td>\n",
       "      <td>103 ST-CORONA</td>\n",
       "      <td>21744.0</td>\n",
       "    </tr>\n",
       "    <tr>\n",
       "      <td>3</td>\n",
       "      <td>104 ST</td>\n",
       "      <td>3394.0</td>\n",
       "    </tr>\n",
       "    <tr>\n",
       "      <td>4</td>\n",
       "      <td>110 ST</td>\n",
       "      <td>22812.0</td>\n",
       "    </tr>\n",
       "  </tbody>\n",
       "</table>\n",
       "</div>"
      ],
      "text/plain": [
       "         STATION  HOURLY_EXITS\n",
       "0           1 AV       72797.0\n",
       "1         103 ST       51323.0\n",
       "2  103 ST-CORONA       21744.0\n",
       "3         104 ST        3394.0\n",
       "4         110 ST       22812.0"
      ]
     },
     "execution_count": 27,
     "metadata": {},
     "output_type": "execute_result"
    }
   ],
   "source": [
    "# first get daily entries by station\n",
    "#exits, not entries\n",
    "work_week_entries = \\\n",
    "(df_final.groupby(['STATION'])['HOURLY_EXITS'].sum()\n",
    "                 .reset_index())\n",
    "\n",
    "work_week_entries.head()"
   ]
  },
  {
   "cell_type": "code",
   "execution_count": 28,
   "metadata": {},
   "outputs": [
    {
     "data": {
      "text/plain": [
       "230    GRD CNTRL-42 ST\n",
       "59     34 ST-HERALD SQ\n",
       "223          FULTON ST\n",
       "72      47-50 STS ROCK\n",
       "46               23 ST\n",
       "348     TIMES SQ-42 ST\n",
       "61      34 ST-PENN STA\n",
       "14      14 ST-UNION SQ\n",
       "177        CHAMBERS ST\n",
       "85               59 ST\n",
       "Name: STATION, dtype: object"
      ]
     },
     "execution_count": 28,
     "metadata": {},
     "output_type": "execute_result"
    }
   ],
   "source": [
    "# then get top 10 stations by daily volume \n",
    "# (sum across all days is a reasonable way to define this)\n",
    "top10_stations = \\\n",
    "    (work_week_entries.groupby(['STATION'])['HOURLY_EXITS'].sum()\n",
    "                   .reset_index()\n",
    "                   .sort_values(by='HOURLY_EXITS',ascending=False) \n",
    "                   .STATION.head(10))\n",
    "\n",
    "top10_stations"
   ]
  },
  {
   "cell_type": "code",
   "execution_count": 29,
   "metadata": {},
   "outputs": [
    {
     "name": "stderr",
     "output_type": "stream",
     "text": [
      "/Users/elena/opt/anaconda3/lib/python3.7/site-packages/ipykernel_launcher.py:5: SettingWithCopyWarning: \n",
      "A value is trying to be set on a copy of a slice from a DataFrame\n",
      "\n",
      "See the caveats in the documentation: http://pandas.pydata.org/pandas-docs/stable/user_guide/indexing.html#returning-a-view-versus-a-copy\n",
      "  \"\"\"\n"
     ]
    }
   ],
   "source": [
    "# next create a new df that filters the stations daily data down\n",
    "# to the top 10 stations\n",
    "stations_hourly_top10 = \\\n",
    "    work_week_entries[work_week_entries['STATION'].isin(top10_stations)]\n",
    "stations_hourly_top10.sort_values(by = 'HOURLY_EXITS', ascending = True, inplace = True)"
   ]
  },
  {
   "cell_type": "code",
   "execution_count": 30,
   "metadata": {},
   "outputs": [
    {
     "data": {
      "text/plain": [
       "<matplotlib.axes._subplots.AxesSubplot at 0x1a2613e310>"
      ]
     },
     "execution_count": 30,
     "metadata": {},
     "output_type": "execute_result"
    },
    {
     "data": {
      "image/png": "[encoded data removed]",
      "text/plain": [
       "<Figure size 432x288 with 1 Axes>"
      ]
     },
     "metadata": {
      "needs_background": "light"
     },
     "output_type": "display_data"
    }
   ],
   "source": [
    "# use seaborn to create a boxplot by station\n",
    "sns.boxplot('HOURLY_EXITS', 'STATION', data=stations_hourly_top10)"
   ]
  },
  {
   "cell_type": "code",
   "execution_count": 31,
   "metadata": {},
   "outputs": [
    {
     "data": {
      "text/plain": [
       "<BarContainer object of 10 artists>"
      ]
     },
     "execution_count": 31,
     "metadata": {},
     "output_type": "execute_result"
    },
    {
     "data": {
      "image/png": "[encoded data removed]",
      "text/plain": [
       "<Figure size 432x288 with 1 Axes>"
      ]
     },
     "metadata": {
      "needs_background": "light"
     },
     "output_type": "display_data"
    }
   ],
   "source": [
    "#top_10 =mta_h1.groupby(['Station']).agg({'busy': sum}).sort_values(by = 'busy', ascending = False).head(10)\n",
    "\n",
    "#fig, ax = plt.subplots(figsize=(25, 8))\n",
    "#top_10.sort_values(by = 'busy',ascending=True).plot(kind='barh', color ='orange',ax=ax)\n",
    "#ax.set(title='Top 10 Stations by Total Entries and Exits (January-June 2018)', xlabel='total traffic', ylabel='')\n",
    "#ax.legend().set_visible(False)\n",
    "\n",
    "plt.barh(stations_hourly_top10['STATION'], stations_hourly_top10['HOURLY_EXITS'])\n",
    "#new_x = np.arange(20)\n",
    "#new_y = np.random.randint(5,10,20)\n",
    "#plt.barh(new_x,new_y);\n"
   ]
  },
  {
   "cell_type": "code",
   "execution_count": 32,
   "metadata": {},
   "outputs": [
    {
     "data": {
      "text/plain": [
       "array(['4567S'], dtype=object)"
      ]
     },
     "execution_count": 32,
     "metadata": {},
     "output_type": "execute_result"
    }
   ],
   "source": [
    "#which line commute to Grand Central \n",
    "df_final[df_final['STATION'] == 'GRD CNTRL-42 ST'].LINENAME.unique()"
   ]
  },
  {
   "cell_type": "code",
   "execution_count": 33,
   "metadata": {},
   "outputs": [],
   "source": [
    "#we choose 1 line form these: we chose 4 to start with  "
   ]
  },
  {
   "cell_type": "code",
   "execution_count": 34,
   "metadata": {},
   "outputs": [
    {
     "data": {
      "text/plain": [
       "array(['CROWN HTS-UTICA', 'FRANKLIN AV', 'ATL AV-BARCLAY', 'NEVINS ST',\n",
       "       'BOROUGH HALL', 'WOODLAWN', 'MOSHOLU PKWY', 'BEDFORD PK BLVD',\n",
       "       'KINGSBRIDGE RD', 'FORDHAM RD', '183 ST', 'BURNSIDE AV', '176 ST',\n",
       "       'MT EDEN AV', '170 ST', '167 ST', '161/YANKEE STAD',\n",
       "       '149/GRAND CONC', '138/GRAND CONC', '125 ST', '86 ST', '59 ST',\n",
       "       'GRD CNTRL-42 ST', '14 ST-UNION SQ', 'BROOKLYN BRIDGE',\n",
       "       'FULTON ST', 'WALL ST', 'BOWLING GREEN', 'BOTANIC GARDEN',\n",
       "       'CHAMBERS ST'], dtype=object)"
      ]
     },
     "execution_count": 34,
     "metadata": {},
     "output_type": "execute_result"
    }
   ],
   "source": [
    "df_final[df_final['LINENAME'].str.contains('4')].STATION.unique() "
   ]
  },
  {
   "cell_type": "code",
   "execution_count": 35,
   "metadata": {},
   "outputs": [
    {
     "data": {
      "text/plain": [
       "array(['EASTCHSTER/DYRE', 'BAYCHESTER AV', 'GUN HILL RD', 'PELHAM PKWY',\n",
       "       'MORRIS PARK', 'FLATBUSH AV-B.C', 'NEWKIRK AV', 'BEVERLY RD',\n",
       "       'CHURCH AV', 'WINTHROP ST', 'STERLING ST', 'PRESIDENT ST',\n",
       "       'FRANKLIN AV', 'ATL AV-BARCLAY', 'NEVINS ST', 'BOROUGH HALL',\n",
       "       'NEREID AV', '233 ST', '225 ST', '219 ST', 'BURKE AV',\n",
       "       'ALLERTON AV', 'BRONX PARK EAST', 'E 180 ST', 'WEST FARMS SQ',\n",
       "       '174 ST', 'FREEMAN ST', 'SIMPSON ST', 'INTERVALE AV',\n",
       "       'PROSPECT AV', 'JACKSON AV', '3 AV-149 ST', '149/GRAND CONC',\n",
       "       '138/GRAND CONC', '125 ST', '86 ST', '59 ST', 'GRD CNTRL-42 ST',\n",
       "       '14 ST-UNION SQ', 'BROOKLYN BRIDGE', 'FULTON ST', 'WALL ST',\n",
       "       'BOWLING GREEN', 'BOTANIC GARDEN', 'CHAMBERS ST'], dtype=object)"
      ]
     },
     "execution_count": 35,
     "metadata": {},
     "output_type": "execute_result"
    }
   ],
   "source": [
    "df_final[df_final['LINENAME'].str.contains('5')].STATION.unique() "
   ]
  },
  {
   "cell_type": "code",
   "execution_count": 36,
   "metadata": {},
   "outputs": [],
   "source": [
    "stations_4_5 = ['CROWN HTS-UTICA', 'FRANKLIN AV', 'ATL AV-BARCLAY', 'NEVINS ST','BOROUGH HALL', 'PRESIDENT ST', 'STERLING ST','WINTHROP ST', 'CHURCH AV', 'BEVERLY RD', 'NEWKIRK AV']"
   ]
  },
  {
   "cell_type": "code",
   "execution_count": 37,
   "metadata": {},
   "outputs": [],
   "source": [
    "df_4_5_Brooklyn = df_final[df_final['STATION'].isin(stations_4_5)] "
   ]
  },
  {
   "cell_type": "code",
   "execution_count": 38,
   "metadata": {},
   "outputs": [
    {
     "data": {
      "text/html": [
       "<div>\n",
       "<style scoped>\n",
       "    .dataframe tbody tr th:only-of-type {\n",
       "        vertical-align: middle;\n",
       "    }\n",
       "\n",
       "    .dataframe tbody tr th {\n",
       "        vertical-align: top;\n",
       "    }\n",
       "\n",
       "    .dataframe thead th {\n",
       "        text-align: right;\n",
       "    }\n",
       "</style>\n",
       "<table border=\"1\" class=\"dataframe\">\n",
       "  <thead>\n",
       "    <tr style=\"text-align: right;\">\n",
       "      <th></th>\n",
       "      <th>C/A</th>\n",
       "      <th>UNIT</th>\n",
       "      <th>SCP</th>\n",
       "      <th>STATION</th>\n",
       "      <th>LINENAME</th>\n",
       "      <th>DIVISION</th>\n",
       "      <th>DATE</th>\n",
       "      <th>TIME</th>\n",
       "      <th>DESC</th>\n",
       "      <th>ENTRIES</th>\n",
       "      <th>EXITS</th>\n",
       "      <th>DATE_TIME</th>\n",
       "      <th>Day_Name</th>\n",
       "      <th>Turnstile</th>\n",
       "      <th>bins</th>\n",
       "      <th>PREV_DATE</th>\n",
       "      <th>PREV_ENTRIES</th>\n",
       "      <th>PREV_EXITS</th>\n",
       "      <th>HOURLY_ENTRIES</th>\n",
       "      <th>HOURLY_EXITS</th>\n",
       "    </tr>\n",
       "  </thead>\n",
       "  <tbody>\n",
       "    <tr>\n",
       "      <td>577440</td>\n",
       "      <td>R644</td>\n",
       "      <td>R135</td>\n",
       "      <td>01-06-01</td>\n",
       "      <td>NEWKIRK AV</td>\n",
       "      <td>25</td>\n",
       "      <td>IRT</td>\n",
       "      <td>09/16/2016</td>\n",
       "      <td>09:46:46</td>\n",
       "      <td>REGULAR</td>\n",
       "      <td>500911</td>\n",
       "      <td>8541542</td>\n",
       "      <td>2016-09-16 09:46:46</td>\n",
       "      <td>Friday</td>\n",
       "      <td>R644R13501-06-01</td>\n",
       "      <td>3</td>\n",
       "      <td>09/16/2016</td>\n",
       "      <td>500924.0</td>\n",
       "      <td>8541690.0</td>\n",
       "      <td>13.0</td>\n",
       "      <td>148.0</td>\n",
       "    </tr>\n",
       "    <tr>\n",
       "      <td>577439</td>\n",
       "      <td>R644</td>\n",
       "      <td>R135</td>\n",
       "      <td>01-06-01</td>\n",
       "      <td>NEWKIRK AV</td>\n",
       "      <td>25</td>\n",
       "      <td>IRT</td>\n",
       "      <td>09/16/2016</td>\n",
       "      <td>09:00:00</td>\n",
       "      <td>REGULAR</td>\n",
       "      <td>500907</td>\n",
       "      <td>8541502</td>\n",
       "      <td>2016-09-16 09:00:00</td>\n",
       "      <td>Friday</td>\n",
       "      <td>R644R13501-06-01</td>\n",
       "      <td>2</td>\n",
       "      <td>09/16/2016</td>\n",
       "      <td>500911.0</td>\n",
       "      <td>8541542.0</td>\n",
       "      <td>4.0</td>\n",
       "      <td>40.0</td>\n",
       "    </tr>\n",
       "    <tr>\n",
       "      <td>577433</td>\n",
       "      <td>R644</td>\n",
       "      <td>R135</td>\n",
       "      <td>01-06-01</td>\n",
       "      <td>NEWKIRK AV</td>\n",
       "      <td>25</td>\n",
       "      <td>IRT</td>\n",
       "      <td>09/15/2016</td>\n",
       "      <td>09:00:00</td>\n",
       "      <td>REGULAR</td>\n",
       "      <td>500808</td>\n",
       "      <td>8539409</td>\n",
       "      <td>2016-09-15 09:00:00</td>\n",
       "      <td>Thursday</td>\n",
       "      <td>R644R13501-06-01</td>\n",
       "      <td>2</td>\n",
       "      <td>09/15/2016</td>\n",
       "      <td>500827.0</td>\n",
       "      <td>8539675.0</td>\n",
       "      <td>19.0</td>\n",
       "      <td>266.0</td>\n",
       "    </tr>\n",
       "    <tr>\n",
       "      <td>577427</td>\n",
       "      <td>R644</td>\n",
       "      <td>R135</td>\n",
       "      <td>01-06-01</td>\n",
       "      <td>NEWKIRK AV</td>\n",
       "      <td>25</td>\n",
       "      <td>IRT</td>\n",
       "      <td>09/14/2016</td>\n",
       "      <td>09:00:00</td>\n",
       "      <td>REGULAR</td>\n",
       "      <td>500724</td>\n",
       "      <td>8537398</td>\n",
       "      <td>2016-09-14 09:00:00</td>\n",
       "      <td>Wednesday</td>\n",
       "      <td>R644R13501-06-01</td>\n",
       "      <td>2</td>\n",
       "      <td>09/14/2016</td>\n",
       "      <td>500743.0</td>\n",
       "      <td>8537622.0</td>\n",
       "      <td>19.0</td>\n",
       "      <td>224.0</td>\n",
       "    </tr>\n",
       "    <tr>\n",
       "      <td>577421</td>\n",
       "      <td>R644</td>\n",
       "      <td>R135</td>\n",
       "      <td>01-06-01</td>\n",
       "      <td>NEWKIRK AV</td>\n",
       "      <td>25</td>\n",
       "      <td>IRT</td>\n",
       "      <td>09/13/2016</td>\n",
       "      <td>09:00:00</td>\n",
       "      <td>REGULAR</td>\n",
       "      <td>500645</td>\n",
       "      <td>8535400</td>\n",
       "      <td>2016-09-13 09:00:00</td>\n",
       "      <td>Tuesday</td>\n",
       "      <td>R644R13501-06-01</td>\n",
       "      <td>2</td>\n",
       "      <td>09/13/2016</td>\n",
       "      <td>500663.0</td>\n",
       "      <td>8535628.0</td>\n",
       "      <td>18.0</td>\n",
       "      <td>228.0</td>\n",
       "    </tr>\n",
       "  </tbody>\n",
       "</table>\n",
       "</div>"
      ],
      "text/plain": [
       "         C/A  UNIT       SCP     STATION LINENAME DIVISION        DATE  \\\n",
       "577440  R644  R135  01-06-01  NEWKIRK AV       25      IRT  09/16/2016   \n",
       "577439  R644  R135  01-06-01  NEWKIRK AV       25      IRT  09/16/2016   \n",
       "577433  R644  R135  01-06-01  NEWKIRK AV       25      IRT  09/15/2016   \n",
       "577427  R644  R135  01-06-01  NEWKIRK AV       25      IRT  09/14/2016   \n",
       "577421  R644  R135  01-06-01  NEWKIRK AV       25      IRT  09/13/2016   \n",
       "\n",
       "            TIME     DESC  ENTRIES    EXITS           DATE_TIME   Day_Name  \\\n",
       "577440  09:46:46  REGULAR   500911  8541542 2016-09-16 09:46:46     Friday   \n",
       "577439  09:00:00  REGULAR   500907  8541502 2016-09-16 09:00:00     Friday   \n",
       "577433  09:00:00  REGULAR   500808  8539409 2016-09-15 09:00:00   Thursday   \n",
       "577427  09:00:00  REGULAR   500724  8537398 2016-09-14 09:00:00  Wednesday   \n",
       "577421  09:00:00  REGULAR   500645  8535400 2016-09-13 09:00:00    Tuesday   \n",
       "\n",
       "               Turnstile  bins   PREV_DATE  PREV_ENTRIES  PREV_EXITS  \\\n",
       "577440  R644R13501-06-01     3  09/16/2016      500924.0   8541690.0   \n",
       "577439  R644R13501-06-01     2  09/16/2016      500911.0   8541542.0   \n",
       "577433  R644R13501-06-01     2  09/15/2016      500827.0   8539675.0   \n",
       "577427  R644R13501-06-01     2  09/14/2016      500743.0   8537622.0   \n",
       "577421  R644R13501-06-01     2  09/13/2016      500663.0   8535628.0   \n",
       "\n",
       "        HOURLY_ENTRIES  HOURLY_EXITS  \n",
       "577440            13.0         148.0  \n",
       "577439             4.0          40.0  \n",
       "577433            19.0         266.0  \n",
       "577427            19.0         224.0  \n",
       "577421            18.0         228.0  "
      ]
     },
     "execution_count": 38,
     "metadata": {},
     "output_type": "execute_result"
    }
   ],
   "source": [
    "df_4_5_Brooklyn.head()"
   ]
  },
  {
   "cell_type": "code",
   "execution_count": 42,
   "metadata": {},
   "outputs": [],
   "source": [
    "# first get daily entries by station\n",
    "work_week_entries = \\\n",
    "(df_4_5_Brooklyn.groupby(['STATION'])['HOURLY_ENTRIES'].sum()\n",
    "                 .reset_index())\n",
    "\n",
    "work_week_entries.sort_values(by = 'HOURLY_ENTRIES', ascending = True, inplace = True)"
   ]
  },
  {
   "cell_type": "code",
   "execution_count": 43,
   "metadata": {},
   "outputs": [
    {
     "data": {
      "text/plain": [
       "<BarContainer object of 11 artists>"
      ]
     },
     "execution_count": 43,
     "metadata": {},
     "output_type": "execute_result"
    },
    {
     "data": {
      "image/png": "[encoded data removed]",
      "text/plain": [
       "<Figure size 432x288 with 1 Axes>"
      ]
     },
     "metadata": {
      "needs_background": "light"
     },
     "output_type": "display_data"
    }
   ],
   "source": [
    "plt.barh(work_week_entries['STATION'], work_week_entries['HOURLY_ENTRIES'])"
   ]
  },
  {
   "cell_type": "code",
   "execution_count": 46,
   "metadata": {},
   "outputs": [
    {
     "data": {
      "text/plain": [
       "2.75"
      ]
     },
     "execution_count": 46,
     "metadata": {},
     "output_type": "execute_result"
    }
   ],
   "source": [
    "len(stations_4_5)/4\n"
   ]
  },
  {
   "cell_type": "code",
   "execution_count": 47,
   "metadata": {},
   "outputs": [
    {
     "data": {
      "text/plain": [
       "['CROWN HTS-UTICA',\n",
       " 'FRANKLIN AV',\n",
       " 'ATL AV-BARCLAY',\n",
       " 'NEVINS ST',\n",
       " 'BOROUGH HALL',\n",
       " 'PRESIDENT ST',\n",
       " 'STERLING ST',\n",
       " 'WINTHROP ST',\n",
       " 'CHURCH AV',\n",
       " 'BEVERLY RD',\n",
       " 'NEWKIRK AV']"
      ]
     },
     "execution_count": 47,
     "metadata": {},
     "output_type": "execute_result"
    }
   ],
   "source": [
    "stations_4_5"
   ]
  },
  {
   "cell_type": "code",
   "execution_count": null,
   "metadata": {},
   "outputs": [],
   "source": []
  }
 ],
 "metadata": {
  "kernelspec": {
   "display_name": "Python 3",
   "language": "python",
   "name": "python3"
  },
  "language_info": {
   "codemirror_mode": {
    "name": "ipython",
    "version": 3
   },
   "file_extension": ".py",
   "mimetype": "text/x-python",
   "name": "python",
   "nbconvert_exporter": "python",
   "pygments_lexer": "ipython3",
   "version": "3.7.4"
  }
 },
 "nbformat": 4,
 "nbformat_minor": 2
}
